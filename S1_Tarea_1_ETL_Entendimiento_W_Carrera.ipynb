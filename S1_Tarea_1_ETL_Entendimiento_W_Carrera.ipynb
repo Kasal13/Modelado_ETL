{
 "cells": [
  {
   "cell_type": "markdown",
   "metadata": {
    "id": "YLE3Y7VOPn3G"
   },
   "source": [
    "# Tutorial: Entendimiento de los datos con PySpark"
   ]
  },
  {
   "cell_type": "markdown",
   "metadata": {
    "id": "7wFQzBv_Pn3J"
   },
   "source": [
    "## Introducción\n",
    "    ¿Qué aprenderá? \n",
    "    En este tutorial aprenderá cómo puede realizar el entendimiento de los datos en el contexto de un proyecto de analítica. A nivel de la metodología ASUM-DM estamos en la fase de entendimiento de datos y en la arquitectura nos encontramos trabajando con el componente de fuentes de datos.\n",
    "\n",
    "    ¿Qué construirá? \n",
    "    En este tutorial realizará la exploración o perfilamiento de un conjunto de datos provenientes de una base de datos relacional, al igual que un análisis de la calidad de los datos utilizando los DataFrames de PySpark. Además, generará las conclusiones requeridas para ser compartidas en reuniones y formalizadas en la documentación del proyecto. Las conclusiones son variadas pero en general podemos decir que siempre deberían incluir una lista de preguntas o aclaraciones para la organización, conclusiones de los datos/problemas de calidad y alternativas para la limpieza. Un entendimiento de datos sin conclusiones no es útil y tampoco es entendible para personas de negocio.\n",
    "    \n",
    "    ¿Para qué?\n",
    "    Antes de realizar cualquier tipo de proyecto de datos es necesario entender los datos con unas tareas de exploración o perfilamiento de datos y de análisis de calidad. Esta fase de la metodología permite determinar si es posible o no realizar el proyecto dada la cantidad y calidad de los datos, el tiempo requerido para su preparación y las diferentes actividades que se requieren para mejorar los datos en caso de requerirse.  \n",
    "    \n",
    "    ¿Qué necesita?\n",
    "    Los siguientes requisitos se encuentran instalados en la máquina virtual asignada a cada estudiante, específicamente en el ambiente de anaconda llamado \"Tutoriales\". Recuerde que tiene a su disposición el tutorial de conexión a máquinas virtuales en la semana 1 de Coursera\n",
    "    1. Python 3 con pip instalado\n",
    "    2. Jupyter Labs\n",
    "    3. Paquetes: Pyspark (3.2.1), pandas (1.2.1), numpy (1.20.0) y matplotlib (3.3.4)\n",
    "    Otros:\n",
    "    1. Controlador Connector J(ya se encuentra configurado)\n",
    "    2. Acceso a servidor remoto MySQL con base de datos relacional \"WWImportersTransactional\". Recuerde que tiene a su disposición el tutorial de conexión remoto a Mysql en la semana 1 de Coursera\n"
   ]
  },
  {
   "cell_type": "markdown",
   "metadata": {
    "id": "V3leWyj9Pn3L"
   },
   "source": [
    "Continuando con el proyecto de consultoria de Wide World Importers, el primer paso para iniciar la comprensión de los datos es explorar y entender las fuentes de datos disponibles. Note que esto también nos ayuda a comprender mejor la organización."
   ]
  },
  {
   "cell_type": "markdown",
   "metadata": {
    "id": "dm33nuYTPn3L"
   },
   "source": [
    "## Configuración e importe de paquetes\n",
    "Se utilizará el paquete de pandas profiling para apoyar el análisis estadístico, y se importan los paquetes de python\n",
    "necesarios"
   ]
  },
  {
   "cell_type": "code",
   "execution_count": 82,
   "metadata": {
    "id": "gGiDdRBNPn3M"
   },
   "outputs": [],
   "source": [
    "from pyspark.sql import SparkSession\n",
    "from pyspark.sql import functions\n",
    "from pyspark.sql.types import StructType\n",
    "from pyspark import SparkContext, SparkConf, SQLContext\n",
    "from pyspark.sql.types import FloatType, StringType, IntegerType, DateType\n",
    "from pyspark.sql.functions import udf, col, length, isnan, when, count\n",
    "import pyspark.sql.functions as f\n",
    "import os \n",
    "from datetime import datetime\n",
    "from pyspark.sql import types as t\n",
    "from pandas_profiling import ProfileReport\n",
    "#import matplotlib.pyplot as plt\n",
    "import numpy as np"
   ]
  },
  {
   "cell_type": "markdown",
   "metadata": {
    "id": "Tyk0YmZRPn3N"
   },
   "source": [
    "Configuración del controlador e inicio de sesion Spark"
   ]
  },
  {
   "cell_type": "code",
   "execution_count": 83,
   "metadata": {
    "id": "0r-yix1rPn3O"
   },
   "outputs": [],
   "source": [
    "path_jar_driver = 'C:\\Program Files (x86)\\MySQL\\Connector J 8.0\\mysql-connector-java-8.0.28.jar'"
   ]
  },
  {
   "cell_type": "code",
   "execution_count": 84,
   "metadata": {
    "id": "0-m3Q2MtPn3O",
    "outputId": "459f0ec2-9a36-4a36-edac-427852524d95"
   },
   "outputs": [
    {
     "ename": "ValueError",
     "evalue": "Cannot run multiple SparkContexts at once; existing SparkContext(app=pyspark-shell, master=local[*]) created by __init__ at C:\\Users\\estudiante\\AppData\\Local\\Temp\\ipykernel_8580\\1218200805.py:5 ",
     "output_type": "error",
     "traceback": [
      "\u001b[1;31m---------------------------------------------------------------------------\u001b[0m",
      "\u001b[1;31mValueError\u001b[0m                                Traceback (most recent call last)",
      "\u001b[1;32m~\\AppData\\Local\\Temp\\ipykernel_8580\\1218200805.py\u001b[0m in \u001b[0;36m<module>\u001b[1;34m\u001b[0m\n\u001b[0;32m      3\u001b[0m     \u001b[1;33m.\u001b[0m\u001b[0mset\u001b[0m\u001b[1;33m(\u001b[0m\u001b[1;34m'spark.driver.extraClassPath'\u001b[0m\u001b[1;33m,\u001b[0m \u001b[0mpath_jar_driver\u001b[0m\u001b[1;33m)\u001b[0m\u001b[1;33m\u001b[0m\u001b[1;33m\u001b[0m\u001b[0m\n\u001b[0;32m      4\u001b[0m \u001b[1;33m\u001b[0m\u001b[0m\n\u001b[1;32m----> 5\u001b[1;33m \u001b[0mspark_context\u001b[0m \u001b[1;33m=\u001b[0m \u001b[0mSparkContext\u001b[0m\u001b[1;33m(\u001b[0m\u001b[0mconf\u001b[0m\u001b[1;33m=\u001b[0m\u001b[0mconf\u001b[0m\u001b[1;33m)\u001b[0m\u001b[1;33m\u001b[0m\u001b[1;33m\u001b[0m\u001b[0m\n\u001b[0m\u001b[0;32m      6\u001b[0m \u001b[0msql_context\u001b[0m \u001b[1;33m=\u001b[0m \u001b[0mSQLContext\u001b[0m\u001b[1;33m(\u001b[0m\u001b[0mspark_context\u001b[0m\u001b[1;33m)\u001b[0m\u001b[1;33m\u001b[0m\u001b[1;33m\u001b[0m\u001b[0m\n\u001b[0;32m      7\u001b[0m \u001b[0mspark\u001b[0m \u001b[1;33m=\u001b[0m \u001b[0msql_context\u001b[0m\u001b[1;33m.\u001b[0m\u001b[0msparkSession\u001b[0m\u001b[1;33m\u001b[0m\u001b[1;33m\u001b[0m\u001b[0m\n",
      "\u001b[1;32m~\\anaconda3\\envs\\Tutoriales\\lib\\site-packages\\pyspark\\context.py\u001b[0m in \u001b[0;36m__init__\u001b[1;34m(self, master, appName, sparkHome, pyFiles, environment, batchSize, serializer, conf, gateway, jsc, profiler_cls)\u001b[0m\n\u001b[0;32m    142\u001b[0m                 \" is not allowed as it is a security risk.\")\n\u001b[0;32m    143\u001b[0m \u001b[1;33m\u001b[0m\u001b[0m\n\u001b[1;32m--> 144\u001b[1;33m         \u001b[0mSparkContext\u001b[0m\u001b[1;33m.\u001b[0m\u001b[0m_ensure_initialized\u001b[0m\u001b[1;33m(\u001b[0m\u001b[0mself\u001b[0m\u001b[1;33m,\u001b[0m \u001b[0mgateway\u001b[0m\u001b[1;33m=\u001b[0m\u001b[0mgateway\u001b[0m\u001b[1;33m,\u001b[0m \u001b[0mconf\u001b[0m\u001b[1;33m=\u001b[0m\u001b[0mconf\u001b[0m\u001b[1;33m)\u001b[0m\u001b[1;33m\u001b[0m\u001b[1;33m\u001b[0m\u001b[0m\n\u001b[0m\u001b[0;32m    145\u001b[0m         \u001b[1;32mtry\u001b[0m\u001b[1;33m:\u001b[0m\u001b[1;33m\u001b[0m\u001b[1;33m\u001b[0m\u001b[0m\n\u001b[0;32m    146\u001b[0m             self._do_init(master, appName, sparkHome, pyFiles, environment, batchSize, serializer,\n",
      "\u001b[1;32m~\\anaconda3\\envs\\Tutoriales\\lib\\site-packages\\pyspark\\context.py\u001b[0m in \u001b[0;36m_ensure_initialized\u001b[1;34m(cls, instance, gateway, conf)\u001b[0m\n\u001b[0;32m    353\u001b[0m                         \u001b[1;34m\" created by %s at %s:%s \"\u001b[0m\u001b[1;33m\u001b[0m\u001b[1;33m\u001b[0m\u001b[0m\n\u001b[0;32m    354\u001b[0m                         % (currentAppName, currentMaster,\n\u001b[1;32m--> 355\u001b[1;33m                             callsite.function, callsite.file, callsite.linenum))\n\u001b[0m\u001b[0;32m    356\u001b[0m                 \u001b[1;32melse\u001b[0m\u001b[1;33m:\u001b[0m\u001b[1;33m\u001b[0m\u001b[1;33m\u001b[0m\u001b[0m\n\u001b[0;32m    357\u001b[0m                     \u001b[0mSparkContext\u001b[0m\u001b[1;33m.\u001b[0m\u001b[0m_active_spark_context\u001b[0m \u001b[1;33m=\u001b[0m \u001b[0minstance\u001b[0m\u001b[1;33m\u001b[0m\u001b[1;33m\u001b[0m\u001b[0m\n",
      "\u001b[1;31mValueError\u001b[0m: Cannot run multiple SparkContexts at once; existing SparkContext(app=pyspark-shell, master=local[*]) created by __init__ at C:\\Users\\estudiante\\AppData\\Local\\Temp\\ipykernel_8580\\1218200805.py:5 "
     ]
    }
   ],
   "source": [
    "#Configuración de la sesión\n",
    "conf=SparkConf() \\\n",
    "    .set('spark.driver.extraClassPath', path_jar_driver)\n",
    "\n",
    "spark_context = SparkContext(conf=conf)\n",
    "sql_context = SQLContext(spark_context)\n",
    "spark = sql_context.sparkSession"
   ]
  },
  {
   "cell_type": "code",
   "execution_count": 85,
   "metadata": {
    "id": "0eQw66SIPn3P"
   },
   "outputs": [],
   "source": [
    "# Si quiere practicar la conexion con el servidor de base de datos:\n",
    "db_connection_string = 'jdbc:mysql://157.253.236.116:8080/WWImportersTransactional'\n",
    "# El usuario es su estudiante _i asignado y su contraseña la encontrará en el archivo excel de Coursera \n",
    "db_user = 'Estudiante_24_202315'\n",
    "db_psswd = 'aabb1122'\n",
    "\n",
    "PATH='./'"
   ]
  },
  {
   "cell_type": "markdown",
   "metadata": {
    "id": "P1nkSAn5Pn3Q"
   },
   "source": [
    "## Perfilamiento de los datos\n",
    "El perfilamiento se basa en varios aspectos: **entendimiento general** de los datos compartidos, validación de **reglas de negocio**, **análisis descriptivo** utilizando estadística descriptiva y diagramas para la visualización de los datos y **análisis de calidad**. El primero hace referencia a tener una comprensiòn global antes de entrar en los detalles, la segunda sobre las reglas, corresponden a especificaciones dadas por el negocio en relación con los datos, un ejemplo de regla de negocio dada es: \"Todo producto de la canasta familiar debe tener un precio de IVA equivalente a 19%\", dada esta regla de negocio, se debe revisar en los datos suministrados que no hayan valores de IVA menores a 19%. En el tercer aspecto, relacionado con el análisis descriptivo, se revisan estadísticas: mínimo, máximo, media, mediana, distribuciones de los datos, valores nulos, cardinalidad con el fin de comprender en mayor nivel de profundidad los datos compartidos.\n"
   ]
  },
  {
   "cell_type": "markdown",
   "metadata": {
    "id": "p6KvbuvpPn3Q"
   },
   "source": [
    "### Información dada por la organización relacionada con los datos\n",
    "El grupo de consultores de analitica descriptiva de Wide World Importers asegura que las tablas Grupo de compras, Ciudades, Colores, Paises, Clientes, Categorias de clientes, Paquetes, Estados y provincias, Productos y Personas ya fueron perfiladas y corregidos; sin embargo le recomiendan revisar el diccionario suministrado dado que todas las tablas serán utilizadas en futuros requerimientos (tutoriales y ejercicios) que lo encuentra [aqui](./Diccionario%20WWImporters.xlsx). Si tienen alguna duda relacionada con estas tablas deben incluirla en las preguntas o aclaraciones que le entreguen a la organización como parte del resultado de esta fase de entendimiento.\n",
    "\n",
    "En este punto de la consultorìa, nuestra responsabilidad es analizar las tablas ordenes y detalles de ordenes, relacionadas con al proceso de ordenes de compra de productos. Con respecto a esas fuentes nos comentan lo siguiente:\n",
    "\n",
    "- La tasa de impuesto es de 10% o 15%\n",
    "- Son 107.707 órdenes detalladas en 231.412 lineas de detalle de órdenes realizadas desde 2013\n",
    "- El formato de fechas manejado es YYYY-MM-DD HH:MM:SS si tienen hora, minutos y segundos. De lo contrario el formato es YYYY-MM-DD\n"
   ]
  },
  {
   "cell_type": "markdown",
   "metadata": {
    "id": "Xw96w3ywPn3R"
   },
   "source": [
    "### Conexión a fuente de datos y acceso a los datos"
   ]
  },
  {
   "cell_type": "markdown",
   "metadata": {
    "id": "LKHpN3nzPn3R"
   },
   "source": [
    "#### Conexión a fuente de datos\n",
    "A continuación encuentra las funciones para conectarse a la fuente de datos (archivo csv o base de datos) y retornar un dataframe que es el que se utilizará posteriormente para manipular los datos."
   ]
  },
  {
   "cell_type": "code",
   "execution_count": 86,
   "metadata": {
    "id": "SsdwInchPn3R"
   },
   "outputs": [],
   "source": [
    "def obtener_dataframe_de_bd(db_connection_string, sql, db_user, db_psswd):\n",
    "    df_bd = spark.read.format('jdbc')\\\n",
    "        .option('url', db_connection_string) \\\n",
    "        .option('dbtable', sql) \\\n",
    "        .option('user', db_user) \\\n",
    "        .option('password', db_psswd) \\\n",
    "        .option('driver', 'com.mysql.cj.jdbc.Driver') \\\n",
    "        .load()\n",
    "    return df_bd"
   ]
  },
  {
   "cell_type": "markdown",
   "metadata": {
    "id": "3HZloEq5Pn3S"
   },
   "source": [
    "#### Cargue de datos\n",
    "Para consultar desde la base de datos se puede acceder directamente a la tabla dado su nombre o se puede especificar la sentencia SQL de un \"SELECT\" completo para traer la información total o parcial de la tabla que se requiere. A continuación un ejemplo de cada uno de estos usos. \n",
    "Acceso directo para el caso de órdenes y acceso con sentencia SQL para el caso de detallesOrdenes."
   ]
  },
  {
   "cell_type": "code",
   "execution_count": 87,
   "metadata": {
    "id": "xMaQViPnPn3S"
   },
   "outputs": [],
   "source": [
    "sql_ordenes = 'WWImportersTransactional.OrdenesCopia'"
   ]
  },
  {
   "cell_type": "code",
   "execution_count": 88,
   "metadata": {
    "id": "fDRojcVMPn3S"
   },
   "outputs": [],
   "source": [
    "sql_detallesOrdenes = '''(SELECT \n",
    "        Detalle_orden_ID, \n",
    "        ID_de_pedido, \n",
    "        ID_Producto, \n",
    "        Descripcion, \n",
    "        ID_Tipo_Paquete, \n",
    "        Cantidad, \n",
    "        Precio_unitario, \n",
    "        Tasa_de_impuesto, \n",
    "        Cantidad_seleccionada, \n",
    "        Seleccion_completada_cuando \n",
    "        FROM WWImportersTransactional.DetallesOrdenesCopia) AS Compatible'''"
   ]
  },
  {
   "cell_type": "code",
   "execution_count": 89,
   "metadata": {
    "id": "Ajy_XMshPn3T"
   },
   "outputs": [],
   "source": [
    "#Se cargan los dataframes desde la base de datos\n",
    "ordenes = obtener_dataframe_de_bd(db_connection_string, sql_ordenes, db_user, db_psswd)\n",
    "detallesOrdenes = obtener_dataframe_de_bd(db_connection_string, sql_detallesOrdenes, db_user, db_psswd)"
   ]
  },
  {
   "cell_type": "markdown",
   "metadata": {
    "id": "qxN27II0Pn3T"
   },
   "source": [
    "### Entendimiento general de datos"
   ]
  },
  {
   "cell_type": "markdown",
   "metadata": {
    "id": "BMULJYE2Pn3T"
   },
   "source": [
    "Para ver una muestra de los datos, utilice el comando <i>show</i> ingresando el número de filas que quiere ver"
   ]
  },
  {
   "cell_type": "code",
   "execution_count": 90,
   "metadata": {
    "id": "HtrqSl0zPn3T",
    "outputId": "c20c03fc-68d4-4d2e-eb8f-91a06cdd3174"
   },
   "outputs": [
    {
     "name": "stdout",
     "output_type": "stream",
     "text": [
      "+------------+-------------+--------------+------------------------------+-------------------------+----------------------+---------------+-------------------------+--------------------------------------+-------------------------------------------+-----------+------------------------+--------------------+---------------------------+\n",
      "|ID_de_pedido|ID_de_cliente|ID_de_vendedor|Seleccionado_por_ID_de_persona|ID_de_persona_de_contacto|ID_de_pedido_pendiente|Fecha_de_pedido|Fecha_de_entrega_esperada|Numero_de_pedido_de_compra_del_cliente|Pedido_pendiente_de_suministro_insuficiente|Comentarios|Instrucciones_de_entrega|Comentarios_internos|Seleccion_completada_cuando|\n",
      "+------------+-------------+--------------+------------------------------+-------------------------+----------------------+---------------+-------------------------+--------------------------------------+-------------------------------------------+-----------+------------------------+--------------------+---------------------------+\n",
      "|       44495|          139|             6|                            18|                     1277|                  null|    Mar 05,2015|               2015-03-06|                                 13118|                                       true|       null|                    null|                null|        2015-03-06 11:00:00|\n",
      "|       45625|          892|            15|                            17|                     3092|                  null|    Mar 24,2015|               2015-03-25|                                 11303|                                       true|       null|                    null|                null|        2015-03-24 11:00:00|\n",
      "|       23645|          542|             8|                             9|                     2283|                  null|    Mar 18,2014|               2014-03-19|                                 18340|                                       true|       null|                    null|                null|        2014-03-18 11:00:00|\n",
      "|       47505|          924|            15|                             4|                     3124|                  null|    Apr 21,2015|               2015-04-22|                                 18645|                                       true|       null|                    null|                null|        2015-04-21 11:00:00|\n",
      "|       37755|           43|             7|                            10|                     1085|                  null|    Nov 11,2014|               2014-11-12|                                 16259|                                       true|       null|                    null|                null|        2014-11-11 11:00:00|\n",
      "|       36114|           54|             3|                            10|                     1107|                  null|    Oct 16,2014|               2014-10-17|                                 17861|                                       true|       null|                    null|                null|        2014-10-16 11:00:00|\n",
      "|       48423|          956|             3|                             9|                     3156|                  null|    May 04,2015|               2015-05-05|                                 19616|                                       true|       null|                    null|                null|        2015-09-24 11:00:00|\n",
      "|       38465|         1028|            16|                            12|                     3228|                  null|    Nov 24,2014|               2014-11-25|                                 18936|                                       true|       null|                    null|                null|        2014-11-24 11:00:00|\n",
      "+------------+-------------+--------------+------------------------------+-------------------------+----------------------+---------------+-------------------------+--------------------------------------+-------------------------------------------+-----------+------------------------+--------------------+---------------------------+\n",
      "only showing top 8 rows\n",
      "\n"
     ]
    }
   ],
   "source": [
    "ordenes.show(5)"
   ]
  },
  {
   "cell_type": "code",
   "execution_count": 14,
   "metadata": {
    "id": "MyjWrCe-Pn3T",
    "outputId": "cd7b96e1-d88a-4aef-a525-cc8b810e21d1"
   },
   "outputs": [
    {
     "name": "stdout",
     "output_type": "stream",
     "text": [
      "+----------------+------------+-----------+--------------------+---------------+--------+---------------+----------------+---------------------+---------------------------+\n",
      "|Detalle_orden_ID|ID_de_pedido|ID_Producto|         Descripcion|ID_Tipo_Paquete|Cantidad|Precio_unitario|Tasa_de_impuesto|Cantidad_seleccionada|Seleccion_completada_cuando|\n",
      "+----------------+------------+-----------+--------------------+---------------+--------+---------------+----------------+---------------------+---------------------------+\n",
      "|          206857|       65697|        205|Tape dispenser (B...|              7|      60|             32|              15|                   60|        2016-01-27 11:00:00|\n",
      "|          206858|       65698|         45|Developer joke mu...|              7|       3|             13|              15|                    3|        2016-01-27 11:00:00|\n",
      "|          206859|       65698|         72|Ride on toy sedan...|              7|       3|            230|              15|                    3|        2016-01-27 11:00:00|\n",
      "|          206861|       65698|        115|Superhero action ...|              7|       1|             34|              15|                    1|        2016-01-27 11:00:00|\n",
      "|          206862|       65698|         10|                   a|              7|       5|             32|              15|                    5|        2016-01-27 11:00:00|\n",
      "|          206863|       65699|        185|Shipping carton (...|              7|      25|              2|              15|                   25|        2016-01-27 11:00:00|\n",
      "|          206864|       65699|         44|Developer joke mu...|              7|       4|             13|              15|                    4|        2016-01-27 11:00:00|\n",
      "|          206865|       65699|        172|32 mm Anti static...|              7|      80|             48|              15|                   80|        2016-01-27 11:00:00|\n",
      "+----------------+------------+-----------+--------------------+---------------+--------+---------------+----------------+---------------------+---------------------------+\n",
      "only showing top 8 rows\n",
      "\n"
     ]
    }
   ],
   "source": [
    "detallesOrdenes.show(5)"
   ]
  },
  {
   "cell_type": "markdown",
   "metadata": {
    "id": "Q_aZvenTPn3U"
   },
   "source": [
    "Como puede observar en la tabla de ordenes tenemos información **relacionada con el cliente, el empleado y con la órden**. La información del cliente es su identificador <i>ID_de_cliente</i>, el identificador de la persona que eligió la órden <i>eleccionado_por_ID_de_persona</i>, el identificador de la persona de contacto <i>ID_de_persona_de_contacto</i>, el <i>Número_de_pedido_de_compra_del_cliente</i>. La información del empleado es su identificador <i>ID_de_vendedor</i>. La información de la órden es: el identificador de la órden <i>ID_de_pedido</i>, el identificador que indica si es un pedido pendiente <i>ID_de_pedido_pendiente</i>, la fecha en la que se realizó el pedido <i>Fecha_de_pedido</i>, la fecha de entrega esperada del pedido <i>Fecha_de_entrega_esperada</i> y <i>Pedido_pendiente_de_suministro_insuficiente</i> que indica si es un pedido pendiente o no.\n",
    "El esquema de un DataFrame incluye los nombres de las columnas asi como el tipo de dato. Recuerde que tipo de dato (e.g., booleano, caracteres, enteros, flotantes, colecciones) es diferente a tipo de variable (numérica y categórica)."
   ]
  },
  {
   "cell_type": "code",
   "execution_count": 94,
   "metadata": {
    "id": "lLV_ItLhPn3U",
    "outputId": "db9438a4-0a6d-4809-ea99-752add60ad64"
   },
   "outputs": [
    {
     "data": {
      "text/plain": [
       "StructType(List(StructField(ID_de_pedido,IntegerType,true),StructField(ID_de_cliente,IntegerType,true),StructField(ID_de_vendedor,IntegerType,true),StructField(Seleccionado_por_ID_de_persona,IntegerType,true),StructField(ID_de_persona_de_contacto,IntegerType,true),StructField(ID_de_pedido_pendiente,IntegerType,true),StructField(Fecha_de_pedido,StringType,true),StructField(Fecha_de_entrega_esperada,StringType,true),StructField(Numero_de_pedido_de_compra_del_cliente,StringType,true),StructField(Pedido_pendiente_de_suministro_insuficiente,BooleanType,true),StructField(Comentarios,StringType,true),StructField(Instrucciones_de_entrega,StringType,true),StructField(Comentarios_internos,StringType,true),StructField(Seleccion_completada_cuando,TimestampType,true)))"
      ]
     },
     "execution_count": 94,
     "metadata": {},
     "output_type": "execute_result"
    }
   ],
   "source": [
    "ordenes.schema"
   ]
  },
  {
   "cell_type": "markdown",
   "metadata": {
    "id": "seP-zo8JPn3U"
   },
   "source": [
    "Por otra parte, en los detalles de ordenes se tiene **información del pedido y del producto**. Del pedido se tiene el identificador del detalle <i>Detalle_orden_ID</i>, el identificador de la orden a la que está relacionado cada detalle <i>ID_de_pedido</i>, la <i>Cantidad_seleccionada</i> del producto para la orden, la fecha de selección <i>Seleccion_completada_cuando</i>. Del producto tenemos el <i>ID_Producto</i>, su <i>Descripcion</i>, el tipo de paquete <i>ID_Tipo_Paquete</i> (Ej. 1.Bolsa, 4. Caja), la <i>Cantidad</i>, el <i>Precio_unitario</i>, y la <i>Tasa_impuesto</i> asociada a ese producto. Una primera aclaración a solicitar por parte del negocio es cuál es la diferencia entre cantidad y cantidad seleccionada"
   ]
  },
  {
   "cell_type": "code",
   "execution_count": 95,
   "metadata": {
    "id": "0bQrARjCPn3V",
    "outputId": "081c3dac-70e5-4d6f-c33e-051f7e688ec8"
   },
   "outputs": [
    {
     "data": {
      "text/plain": [
       "StructType(List(StructField(Detalle_orden_ID,IntegerType,true),StructField(ID_de_pedido,IntegerType,true),StructField(ID_Producto,IntegerType,true),StructField(Descripcion,StringType,true),StructField(ID_Tipo_Paquete,IntegerType,true),StructField(Cantidad,IntegerType,true),StructField(Precio_unitario,DecimalType(10,0),true),StructField(Tasa_de_impuesto,DecimalType(10,0),true),StructField(Cantidad_seleccionada,IntegerType,true),StructField(Seleccion_completada_cuando,TimestampType,true)))"
      ]
     },
     "execution_count": 95,
     "metadata": {},
     "output_type": "execute_result"
    }
   ],
   "source": [
    "detallesOrdenes.schema"
   ]
  },
  {
   "cell_type": "markdown",
   "metadata": {
    "id": "GJDrzRVHPn3V"
   },
   "source": [
    "**¿Qué es una fila de cada fuente compartida?**\n",
    "Con estos análisis podemos concluir que una fila de órdenes representa la órden realizada por un cliente y atendida por un empleado. Mientras que el detalle de órden coincide con su nombre y contiene el detalle de cada producto solicitado en una órden."
   ]
  },
  {
   "cell_type": "markdown",
   "metadata": {
    "id": "uw09BODdPn3V"
   },
   "source": [
    "Una vez entendida en términos generales la estructura de los datos, es necesario conocer la cantidad de datos disponibles, esto se hace con count() y con columns, que retornan el número de filas y número de columnas respectivamente."
   ]
  },
  {
   "cell_type": "code",
   "execution_count": 96,
   "metadata": {
    "id": "g0Lvl535Pn3V",
    "outputId": "6fb3f30d-2179-4d50-ddd5-4880e28673d8"
   },
   "outputs": [
    {
     "name": "stdout",
     "output_type": "stream",
     "text": [
      "(58320, 10) (88258, 14)\n"
     ]
    }
   ],
   "source": [
    "print((detallesOrdenes.count(), len(detallesOrdenes.columns)),(ordenes.count(), len(ordenes.columns)))"
   ]
  },
  {
   "cell_type": "markdown",
   "metadata": {
    "id": "kqwEyUFpPn3V"
   },
   "source": [
    "**¿Cuantos datos nos compartieron para el proyecto?**\n",
    "En total tenemos 58.320 órdenes y 88.258 detalles de orden y tenemos en total 24 variables a revisar de las cuales 8 son nùmericas asociadas a las órdenes, dos son de tipo fecha y las demás son cadenas de caracteres."
   ]
  },
  {
   "cell_type": "markdown",
   "metadata": {
    "id": "GnAScmClPn3W"
   },
   "source": [
    "### Revisión de reglas de negocio \n",
    "\n",
    "Primero se confirman las reglas proporcionadas por el negocio, la primera que asegura que la tasa de impuesto es de 10% o 15% vemos que no es correcta pues al seleccionar esa columna e indicar que queremos ver los valores distintos que puede tomar se observa únicamente el valor 15"
   ]
  },
  {
   "cell_type": "code",
   "execution_count": 97,
   "metadata": {
    "id": "ssjlV5xbPn3W",
    "outputId": "2ab69e67-fcc0-42c0-bf32-425d65c5118b"
   },
   "outputs": [
    {
     "name": "stdout",
     "output_type": "stream",
     "text": [
      "+----------------+\n",
      "|Tasa_de_impuesto|\n",
      "+----------------+\n",
      "|              15|\n",
      "+----------------+\n",
      "\n"
     ]
    }
   ],
   "source": [
    "detallesOrdenes.select(\"Tasa_de_impuesto\").distinct().show()"
   ]
  },
  {
   "cell_type": "markdown",
   "metadata": {
    "id": "55FLtckZPn3W"
   },
   "source": [
    "Si se quiere saber cuántos registros hay por cada valor posible, existen varias formas de hacerlo, en la siguiente celda se muestra cómo iterar sobre los valores resultado de una consulta y cómo filtrar el número de registros para cada valor usando filter y select where, también se da un ejemplo de uso de group by y agregaciones\n",
    "\n",
    "Pyspark tiene funcionalidades de los DataFrames que permiten explorar los datos por medio de agregaciones y estas funcionan similar a como se usan en SQL\n",
    "\n",
    "Primero, se debe agrupar sobre una columna con el método <i>groupBy</i> y después se pueden realizar agregaciones sobre otras columnas con el método <i>agg</i>. La sintaxis es la siguiente: \n",
    " ``` \n",
    "    DataFrame.groupBy('COLUMN NAME').agg({'COLUMN NAME 1': 'mean', 'COLUMN NAME 2': 'count', 'COLUMN NAME 3': 'max'})\n",
    "  ``` \n",
    "\n",
    "En cualquiera de los 3 casos se observa que el resultado es el mismo"
   ]
  },
  {
   "cell_type": "code",
   "execution_count": 98,
   "metadata": {
    "id": "oF0aFycqPn3W",
    "outputId": "62fc6101-ad21-4e65-b2d2-849c9752d005"
   },
   "outputs": [
    {
     "name": "stdout",
     "output_type": "stream",
     "text": [
      "número de registros con 15% de tasa de impuesto: --Usando filter--58320\n",
      "número de registros con 15% de tasa de impuesto: --Usando Select where--58320\n",
      "+----------------+-----+\n",
      "|Tasa_de_impuesto|count|\n",
      "+----------------+-----+\n",
      "|              15|58320|\n",
      "+----------------+-----+\n",
      "\n"
     ]
    }
   ],
   "source": [
    "for row in detallesOrdenes.select('Tasa_de_impuesto').distinct().collect(): \n",
    "    texto = 'número de registros con '+str(row.Tasa_de_impuesto)+ '% de tasa de impuesto: '\n",
    "    opc1 =\"--Usando filter--\"\n",
    "    print(texto+opc1+str(detallesOrdenes.filter(col('Tasa_de_impuesto')==row.Tasa_de_impuesto).count()))\n",
    "    \n",
    "    opc2 =\"--Usando Select where--\"\n",
    "    print(texto+opc2+str(detallesOrdenes.select().where(col('Tasa_de_impuesto')==row.Tasa_de_impuesto).count()))\n",
    "    opc3 =\"--Usando group by--\"\n",
    "detallesOrdenes.groupBy(\"Tasa_de_impuesto\").count().show()"
   ]
  },
  {
   "cell_type": "markdown",
   "metadata": {
    "id": "rIrRLyudPn3W"
   },
   "source": [
    "La conclusión es entonces que la regla no es completamente cierta, pues en los datos no hay ningun registro con tasa_de_impuesto de 10%, es necesario pedir aclaraciones al negocio en relación a este descubrimiento. La segunda regla de negocio implica conocer el número de registros y de variables que los describen, es decir, el número de filas y columnas del DataFrame respectivamente, esto se logra usando count() y columns"
   ]
  },
  {
   "cell_type": "code",
   "execution_count": 99,
   "metadata": {
    "id": "FzPokPTyPn3W",
    "outputId": "d931d421-b755-496a-f77c-e04c616c7842"
   },
   "outputs": [
    {
     "name": "stdout",
     "output_type": "stream",
     "text": [
      "(58320, 10) (88258, 14)\n"
     ]
    }
   ],
   "source": [
    "print((detallesOrdenes.count(), len(detallesOrdenes.columns)),(ordenes.count(), len(ordenes.columns)))"
   ]
  },
  {
   "cell_type": "markdown",
   "metadata": {
    "id": "M48A5DanPn3X"
   },
   "source": [
    "Podemos concluir que esta regla de negocio no es cierta dado que el número de registros no parece coincidir con el número dado por el negocio, una primera intuición nos dice que podrían haber registros duplicados y si existen hay que reportarlos y eliminarlos en la fase de preparación de los datos. Esta es la primera conclusión del análisis de entendimiento de datos."
   ]
  },
  {
   "cell_type": "code",
   "execution_count": 100,
   "metadata": {
    "id": "yWq4-hOHPn3X",
    "outputId": "03b34472-ec29-47c9-c37a-33e9439e0eb2"
   },
   "outputs": [
    {
     "data": {
      "text/plain": [
       "(58239, 74179)"
      ]
     },
     "execution_count": 100,
     "metadata": {},
     "output_type": "execute_result"
    }
   ],
   "source": [
    "detallesOrdenes.distinct().count(), ordenes.distinct().count() "
   ]
  },
  {
   "cell_type": "markdown",
   "metadata": {
    "id": "1kH3BhCgPn3X"
   },
   "source": [
    "Como pueden ver hay 58.239 detalles de orden y 74.179 ordenes únicas. Es decir que sabemos que hay 14.079 ordenes completamente repetidas, pero entonces ¿por qué el número de detalles de orden que hay en los datos no coincide con el dado por la organización? \n",
    "\n",
    "La respuesta es que no basta solo con revisar si hay registros idénticos, puede que hayan registros con columnas identificadoras o lo que conoceriamos como las llaves primarias repetidas pero con diferentes valores en los otros atributos. Esto se da principalmente cuando las bases de datos están mal construidas, aunque hay casos en los cuales tiene sentido. En cualquier caso es nuestra responsabilidad preveer estos escenarios, por ende se revisan los datos por la llave primaria de esta tabla:"
   ]
  },
  {
   "cell_type": "code",
   "execution_count": 101,
   "metadata": {
    "id": "MTV-XifxPn3X",
    "outputId": "6406990d-b30b-4e99-828a-bacbd587c951"
   },
   "outputs": [
    {
     "data": {
      "text/plain": [
       "57981"
      ]
     },
     "execution_count": 101,
     "metadata": {},
     "output_type": "execute_result"
    }
   ],
   "source": [
    "detallesOrdenes.select(col('Detalle_orden_ID')).distinct().count()"
   ]
  },
  {
   "cell_type": "markdown",
   "metadata": {
    "id": "CxNL9EcuPn3Y"
   },
   "source": [
    "De esta manera vemos que hay una diferencia de 258 registros cuyo identificador es el mismo y vemos que el número de identificadores únicos coincide con el número dado por el negocio, la segunda conclusión es entonces que tenemos 258 registros que representan el mismo detalle de orden pero con valores distintos.\n",
    "\n",
    "Lo siguiente es verificar las fechas en los datos, nos dicen que son ordenes desde 2013 por lo que se revisa la fecha mínima del atributo Fecha_de_pedido, como se observa la fecha mínima es de 2014 enero 1, esto nos indica que la regla de negocio no es correcta o faltan datos, esta es la tercera conclusión"
   ]
  },
  {
   "cell_type": "code",
   "execution_count": 102,
   "metadata": {
    "id": "YOjCx-PyPn3Y",
    "outputId": "fd34900d-de7a-40e4-d317-bf9b1ecc458f"
   },
   "outputs": [
    {
     "name": "stdout",
     "output_type": "stream",
     "text": [
      "+--------------------+\n",
      "|min(Fecha_de_pedido)|\n",
      "+--------------------+\n",
      "|          2014-01-01|\n",
      "+--------------------+\n",
      "\n"
     ]
    }
   ],
   "source": [
    "ordenes.agg({\"Fecha_de_pedido\": \"min\"}).show()"
   ]
  },
  {
   "cell_type": "markdown",
   "metadata": {
    "id": "IwubJmKdPn3Y"
   },
   "source": [
    " ``` \n",
    "Como ve en el comando anterior las agregaciones también se pueden realizar sin un groupBy.\n",
    " ``` "
   ]
  },
  {
   "cell_type": "markdown",
   "metadata": {
    "id": "8_WfDYLHPn3Y"
   },
   "source": [
    "La siguiente regla nos indica que es necesario revisar el formato de las fechas YYYY-MM-DD HH:MM:SS, un ejemplo es el atributo <i>Fecha_de_pedido</i>. Para esto vamos a hacer uso de expresiones regulares, que son patrones de búsqueda, en este caso queremos 4 dígitos entre 0 y 9 que indican el año seguido del símbolo - luego tenemos un número de 2 dígitos que puede empezar con 0 seguido de un número entre 1 y 9 (meses 01 hasta 09) o 1 seguido de 1 o 2 (meses 11 o 12), sigue otro -, y terminamos con un número de 2 dígitos que van desde el día 01 hasta el 31, se usa rlike smilar a LIKE de SQL"
   ]
  },
  {
   "cell_type": "code",
   "execution_count": 103,
   "metadata": {
    "id": "_KzyrNQ_Pn3Y",
    "outputId": "f9029802-04b2-4bd3-fb29-eb32c5dc175a"
   },
   "outputs": [
    {
     "name": "stdout",
     "output_type": "stream",
     "text": [
      "Número total de ordenes: 88258, número de ordenes con formato correcto: 68223\n"
     ]
    }
   ],
   "source": [
    "regex = \"[0-2]\\d{3}-(0[1-9]|1[0-2])-(0[1-9]|[1-2][0-9]|3[0-1])\"\n",
    "cumplenFormato = ordenes.filter(ordenes[\"Fecha_de_pedido\"].rlike(regex))\n",
    "print(\"Número total de ordenes: \"+str(ordenes.count())+\", número de ordenes con formato correcto: \"+str(cumplenFormato.count()))"
   ]
  },
  {
   "cell_type": "markdown",
   "metadata": {
    "id": "JNAo5XdkPn3Y"
   },
   "source": [
    "Para ver los registros que no cumplen con el formato podemos negar la condición del filtro con el símbolo ~ al principio:"
   ]
  },
  {
   "cell_type": "code",
   "execution_count": 104,
   "metadata": {
    "id": "cfRkDawmPn3Z",
    "outputId": "d1e48a40-41de-4df1-8f43-ff2f6294ae4e"
   },
   "outputs": [
    {
     "name": "stdout",
     "output_type": "stream",
     "text": [
      "+---------------+\n",
      "|Fecha_de_pedido|\n",
      "+---------------+\n",
      "|    Mar 05,2015|\n",
      "|    Mar 24,2015|\n",
      "|    Mar 18,2014|\n",
      "|    Apr 21,2015|\n",
      "|    Nov 11,2014|\n",
      "|    Oct 16,2014|\n",
      "|    May 04,2015|\n",
      "|    Nov 24,2014|\n",
      "|    May 07,2015|\n",
      "|    Sep 10,2014|\n",
      "|    Nov 03,2015|\n",
      "|    Dec 19,2014|\n",
      "|    Apr 27,2016|\n",
      "|    Apr 28,2016|\n",
      "|    Sep 23,2014|\n",
      "|    Oct 02,2015|\n",
      "|    Jun 11,2014|\n",
      "|    Feb 17,2014|\n",
      "|    Aug 14,2015|\n",
      "|    Dec 25,2015|\n",
      "+---------------+\n",
      "only showing top 20 rows\n",
      "\n"
     ]
    },
    {
     "data": {
      "text/plain": [
       "(20035, None)"
      ]
     },
     "execution_count": 104,
     "metadata": {},
     "output_type": "execute_result"
    }
   ],
   "source": [
    "noCumplenFormato = ordenes.filter(~ordenes[\"Fecha_de_pedido\"].rlike(regex))\n",
    "noCumplenFormato.count(), noCumplenFormato.select(col(\"Fecha_de_pedido\")).show()"
   ]
  },
  {
   "cell_type": "markdown",
   "metadata": {
    "id": "N7T3ewQWPn3Z"
   },
   "source": [
    "Concluimos entonces, que hay 20.035 registros cuya fecha no cumple con el formato especificado. Sin embargo, los valores que son diferentes parecen serlo solo porque varia el formato, este tipo de casos pueden ser solucionados fácilmente por lo que una notificación al negocio sería con caracter informativo más que para solicitar una aclaración de su parte.\n",
    "\n",
    "Para facilitar los análisis y evitar inconsistencias o conclusiones erradas vamos a estandarizar los datos, en este caso las fechas. Sin embargo, esta actividad puede hacerse sobre formatos de números, texto entre otras. "
   ]
  },
  {
   "cell_type": "markdown",
   "metadata": {
    "id": "eegq6VGqPn3Z"
   },
   "source": [
    "Algo que se debe tener en cuenta en el perfilamiento de reglas de negocio es que dichas reglas pueden estar incompletas, por ende se recomienda tener especial cuidado con las columnas tipo caracter o string dado que suelen ser pasadas por alto en el análisis estadistico, un ejemplo es la columna **Descripcion**, al ser una columna de descripción del producto se espera que tenga un cierto número de caracteres. Sin embargo haciendo la validación vemos que algunas descripciones son textos incompletos como \"a\". Este podría llegar a ser un problema a futuro por lo que se decide notificar a la organización."
   ]
  },
  {
   "cell_type": "code",
   "execution_count": 105,
   "metadata": {
    "id": "ZLHB_pwSPn3Z",
    "outputId": "67a68544-272a-44af-f39f-52dcd5a09d4c"
   },
   "outputs": [
    {
     "name": "stdout",
     "output_type": "stream",
     "text": [
      "+----------------+------------+-----------+-----------+---------------+--------+---------------+----------------+---------------------+---------------------------+\n",
      "|Detalle_orden_ID|ID_de_pedido|ID_Producto|Descripcion|ID_Tipo_Paquete|Cantidad|Precio_unitario|Tasa_de_impuesto|Cantidad_seleccionada|Seleccion_completada_cuando|\n",
      "+----------------+------------+-----------+-----------+---------------+--------+---------------+----------------+---------------------+---------------------------+\n",
      "|          206862|       65698|         10|          a|              7|       5|             32|              15|                    5|        2016-01-27 11:00:00|\n",
      "|          206874|       65701|         47|          a|              7|       5|             13|              15|                    5|        2016-01-27 11:00:00|\n",
      "|          206909|       65711|         37|          a|              7|       5|             13|              15|                    5|        2016-01-27 11:00:00|\n",
      "|          206914|       65712|        119|          a|              7|       5|             32|              15|                    5|        2016-01-27 11:00:00|\n",
      "|          206938|       65719|          1|          a|              7|       5|             25|              15|                    5|        2016-01-27 11:00:00|\n",
      "|          206939|       65719|         62|          a|              7|       5|             25|              15|                    5|        2016-01-27 11:00:00|\n",
      "|          206942|       65720|        128|          a|              7|       5|             32|              15|                    5|        2016-01-27 11:00:00|\n",
      "|          206946|       65722|         30|          a|              7|       5|             13|              15|                    5|        2016-01-27 11:00:00|\n",
      "|          206989|       65737|        119|          a|              7|       5|             32|              15|                    5|        2016-01-28 11:00:00|\n",
      "|          207023|       65747|         15|          a|              7|       5|            240|              15|                    5|        2016-01-28 11:00:00|\n",
      "|          207033|       65750|         62|          a|              7|       5|             25|              15|                    5|        2016-01-28 11:00:00|\n",
      "|          207056|       65756|         60|          a|              7|       5|             25|              15|                    5|        2016-01-28 11:00:00|\n",
      "|          207069|       65760|         52|          a|              7|       5|             13|              15|                    5|        2016-01-28 11:00:00|\n",
      "|          207175|       65790|         44|          a|              7|       5|             13|              15|                    5|        2016-01-28 11:00:00|\n",
      "|          207178|       65791|         21|          a|              7|       5|             13|              15|                    5|        2016-01-28 11:00:00|\n",
      "|          207189|       65798|        175|          a|              7|       5|            240|              15|                    5|        2016-01-29 11:00:00|\n",
      "|          207296|       65827|        151|          a|              7|       5|             16|              15|                    5|        2016-01-29 11:00:00|\n",
      "|          207318|       65833|        213|          a|              7|       5|             87|              15|                    5|        2016-01-29 11:00:00|\n",
      "|          207320|       65834|         39|          a|              7|       5|             13|              15|                    5|        2016-01-29 11:00:00|\n",
      "|          207323|       65836|        107|          a|              7|       5|             25|              15|                    5|        2016-01-29 11:00:00|\n",
      "+----------------+------------+-----------+-----------+---------------+--------+---------------+----------------+---------------------+---------------------------+\n",
      "only showing top 20 rows\n",
      "\n"
     ]
    }
   ],
   "source": [
    "detallesOrdenes.where(length(col(\"Descripcion\")) <= 10).show()"
   ]
  },
  {
   "cell_type": "markdown",
   "metadata": {
    "id": "UuZspay3Pn3Z"
   },
   "source": [
    "### Análisis descriptivo\n",
    "Una vez cubierto lo básico de reglas de negocio, pasamos a perfilamiento estadístico. Para ver estadisticos generales como conteo, mínimo, máximo, desviación estandar y percentiles utilice summary()"
   ]
  },
  {
   "cell_type": "code",
   "execution_count": 106,
   "metadata": {
    "id": "TkWrIdDhPn3Z",
    "outputId": "7d37ef91-452e-49d9-8282-f1676c2b5ea9"
   },
   "outputs": [
    {
     "name": "stdout",
     "output_type": "stream",
     "text": [
      "+-------+-----------------+-----------------+-----------------+------------------------------+-------------------------+----------------------+---------------+-------------------------+--------------------------------------+-----------+------------------------+--------------------+\n",
      "|summary|     ID_de_pedido|    ID_de_cliente|   ID_de_vendedor|Seleccionado_por_ID_de_persona|ID_de_persona_de_contacto|ID_de_pedido_pendiente|Fecha_de_pedido|Fecha_de_entrega_esperada|Numero_de_pedido_de_compra_del_cliente|Comentarios|Instrucciones_de_entrega|Comentarios_internos|\n",
      "+-------+-----------------+-----------------+-----------------+------------------------------+-------------------------+----------------------+---------------+-------------------------+--------------------------------------+-----------+------------------------+--------------------+\n",
      "|  count|            88258|            88258|            88258|                         74688|                    88258|                  9223|          88258|                    88258|                                 88258|          0|                       0|                   0|\n",
      "|   mean|46547.75124068073| 534.582054884543|10.42955879353713|             10.95699443016281|       2234.9136055655013|     46971.11080993169|           null|                     null|                    14993.604375807292|       null|                    null|                null|\n",
      "| stddev|15608.64492329683|345.8665215804778|5.712593444617196|             5.460278195348016|        800.2809870182093|    15466.668758214684|           null|                     null|                    2882.0331104310303|       null|                    null|                null|\n",
      "|    min|            19443|                1|                2|                             2|                     1001|                 19532|     2014-01-01|               2014-01-02|                                 10001|       null|                    null|                null|\n",
      "|    25%|            33066|              162|                6|                             6|                     1323|                 33756|           null|                     null|                               12493.0|       null|                    null|                null|\n",
      "|    50%|            46542|              521|               13|                            11|                     2241|                 47271|           null|                     null|                               14995.0|       null|                    null|                null|\n",
      "|    75%|            60067|              883|               15|                            16|                     3083|                 60249|           null|                     null|                               17496.0|       null|                    null|                null|\n",
      "|    max|            73595|             1061|               20|                            20|                     3261|                 73595|    Sep 30,2015|               2016-06-01|                                 20000|       null|                    null|                null|\n",
      "+-------+-----------------+-----------------+-----------------+------------------------------+-------------------------+----------------------+---------------+-------------------------+--------------------------------------+-----------+------------------------+--------------------+\n",
      "\n"
     ]
    }
   ],
   "source": [
    "ordenes.summary().show()"
   ]
  },
  {
   "cell_type": "markdown",
   "metadata": {
    "id": "0zEoTVtOPn3Z"
   },
   "source": [
    "En las estadísticas anteriores vemos que las columnas Comentarios, Instrucciones_de_entrega y Comentarios_internos tienen un conteo igual a 0, es decir son columnas vacías por lo que s epueden eliminar, también observamos el calculo de la media para las columnas ID, esto se hace automatico pues son columnas cuyo tipo de dato es numerico, sin embargo estas no son variables numericas por lo cual calcular y/o analizar la media no tiene sentido. La lógica es similar para los otros estadísticos, aunque podemos decir que los ID's de pedido van desde el número 19443 hasta el 73595 por ejemplo"
   ]
  },
  {
   "cell_type": "code",
   "execution_count": 107,
   "metadata": {
    "id": "wMmvsIpSPn3a",
    "outputId": "0dc954ac-a0a3-4e34-9850-b8890f7be3fb"
   },
   "outputs": [
    {
     "name": "stdout",
     "output_type": "stream",
     "text": [
      "+-------+------------------+------------------+------------------+--------------------+---------------+------------------+-----------------+----------------+---------------------+\n",
      "|summary|  Detalle_orden_ID|      ID_de_pedido|       ID_Producto|         Descripcion|ID_Tipo_Paquete|          Cantidad|  Precio_unitario|Tasa_de_impuesto|Cantidad_seleccionada|\n",
      "+-------+------------------+------------------+------------------+--------------------+---------------+------------------+-----------------+----------------+---------------------+\n",
      "|  count|             58320|             58320|             58320|               58320|          58320|             58320|            57337|           58320|                58320|\n",
      "|   mean|152909.77184499314| 91440.73607681756|111.83144718792867|                null|            7.0|213.03914609053498|          44.5468|         15.0000|    39.74422153635117|\n",
      "| stddev| 72929.99490225241|29085.094720342793| 64.32670239320214|                null|            0.0|41408.532099263495|139.4458195075212|             0.0|   55.379265731608136|\n",
      "|    min|                21|                34|                 1|\"The Gu\" red shir...|              7|                 1|                1|              15|                    0|\n",
      "|    25%|             90877|             70002|                56|                null|              7|                 5|             13.0|            15.0|                    5|\n",
      "|    50%|            180386|             84132|               111|                null|              7|                10|             18.0|            15.0|                   10|\n",
      "|    75%|            217010|            115622|               168|                null|              7|                70|             32.0|            15.0|                   60|\n",
      "|    max|            231412|            147172|               227|                   a|              7|          10000000|             1899|              15|                  360|\n",
      "+-------+------------------+------------------+------------------+--------------------+---------------+------------------+-----------------+----------------+---------------------+\n",
      "\n"
     ]
    }
   ],
   "source": [
    "detallesOrdenes.summary().show()"
   ]
  },
  {
   "cell_type": "markdown",
   "metadata": {
    "id": "K5ZlLb22Pn3a"
   },
   "source": [
    "En las estadíticas de orden podemos observar que el valor promedio de precio unitario es 44.54, la cantidad promedio es 213 unidades y el promedio de cantidad seleccionada es 39.74\n",
    "\n",
    "En cuanto a la desviación estandar vemos que, por ejemplo, el precio unitario puede variar en más o menos 139.45. El valor mínimo de cantidad es 1 y el máximo es 10'000.000, de cantidad seleccionada el mínimo es 0 y el máximo 360 y de precio unitario el mínimo es 1 y el máximo 1899. Vemos por ejemplo que el valor máximo de Cantidad indica valores anómalos o extremos, pues en su percentil 75% el valor máximo era 70, es decir, para el 75% de los datos, el valor de Cantidad no superaba el 70. Observamos que la columna ID_Tipo_Paquete solo toma el valor 7, que podría ser o no un error, se notifica al negocio.\n",
    "\n",
    "Otras formas de observar distribución o estadísticos son las graficas, de barras, de dispersión, diagramas de caja, entre otros. Por ejemplo tenemos los siguientes diagramas de caja donde se observa claramente que tenemos un valor extremo en la variable cantidad (primer grafico) y donde podemos ver los valores extremos o bigotes que determinan el punto de separación entre valores atípicos y normales, los valores atipicos, los cuartiles entre otros"
   ]
  },
  {
   "cell_type": "code",
   "execution_count": 108,
   "metadata": {
    "id": "dn8Ez79LPn3a",
    "outputId": "4fdf9370-9987-46a8-80c0-8b4c79655534"
   },
   "outputs": [
    {
     "data": {
      "text/plain": [
       "{'whiskers': [<matplotlib.lines.Line2D at 0x1e804fdf388>,\n",
       "  <matplotlib.lines.Line2D at 0x1e804fdf3c8>],\n",
       " 'caps': [<matplotlib.lines.Line2D at 0x1e804fdf748>,\n",
       "  <matplotlib.lines.Line2D at 0x1e804fdf348>],\n",
       " 'boxes': [<matplotlib.lines.Line2D at 0x1e805459408>],\n",
       " 'medians': [<matplotlib.lines.Line2D at 0x1e804f79c88>],\n",
       " 'fliers': [<matplotlib.lines.Line2D at 0x1e804f79c08>],\n",
       " 'means': []}"
      ]
     },
     "execution_count": 108,
     "metadata": {},
     "output_type": "execute_result"
    },
    {
     "data": {
      "image/png": "[encoded data removed]",
      "text/plain": [
       "<Figure size 432x288 with 1 Axes>"
      ]
     },
     "metadata": {
      "needs_background": "light"
     },
     "output_type": "display_data"
    }
   ],
   "source": [
    "%matplotlib inline\n",
    "import matplotlib.pyplot as plt\n",
    "\n",
    "fig1, ax1 = plt.subplots()\n",
    "ax1.set_title('Cantidad de productos')\n",
    "ax1.boxplot(np.array(detallesOrdenes.select('Cantidad').collect()))"
   ]
  },
  {
   "cell_type": "code",
   "execution_count": 109,
   "metadata": {
    "id": "AsMRmF37Pn3a",
    "outputId": "9530d350-dc3e-44ea-fd4f-3e8da68cd702"
   },
   "outputs": [
    {
     "data": {
      "text/plain": [
       "{'whiskers': [<matplotlib.lines.Line2D at 0x1e82e47e748>,\n",
       "  <matplotlib.lines.Line2D at 0x1e82c6cf1c8>],\n",
       " 'caps': [<matplotlib.lines.Line2D at 0x1e82c6cfac8>,\n",
       "  <matplotlib.lines.Line2D at 0x1e82c6cf988>],\n",
       " 'boxes': [<matplotlib.lines.Line2D at 0x1e82e47e208>],\n",
       " 'medians': [<matplotlib.lines.Line2D at 0x1e8318cf1c8>],\n",
       " 'fliers': [<matplotlib.lines.Line2D at 0x1e8d54a5188>],\n",
       " 'means': []}"
      ]
     },
     "execution_count": 109,
     "metadata": {},
     "output_type": "execute_result"
    },
    {
     "data": {
      "image/png": "[encoded data removed]",
      "text/plain": [
       "<Figure size 432x288 with 1 Axes>"
      ]
     },
     "metadata": {
      "needs_background": "light"
     },
     "output_type": "display_data"
    }
   ],
   "source": [
    "fig1, ax1 = plt.subplots()\n",
    "ax1.set_title('Cantidad seleccionada')\n",
    "\n",
    "my_list = [float(i) for i in detallesOrdenes.select(f.collect_list('Cantidad_seleccionada')).first()[0]]\n",
    "ax1.boxplot(my_list)"
   ]
  },
  {
   "cell_type": "markdown",
   "metadata": {
    "id": "c0_4fokYPn3a"
   },
   "source": [
    "El análisis anterior es muy útil para variables de tipo numérico, sin embargo es incompleto para las variables de tipo caracter o las variables categoricas, por ende es necesario implementar nuestro propio código par obtener estadisticos como la moda y la mediana. A continuación obtenemos la moda para la variable Descripcion:"
   ]
  },
  {
   "cell_type": "code",
   "execution_count": 110,
   "metadata": {
    "id": "iz9SiUvHPn3b",
    "outputId": "449aaac6-4825-4104-e748-78056fc4f88f"
   },
   "outputs": [
    {
     "name": "stdout",
     "output_type": "stream",
     "text": [
      "+--------------------+-----+\n",
      "|         Descripcion|count|\n",
      "+--------------------+-----+\n",
      "|                   a| 3225|\n",
      "|Halloween skull m...|  306|\n",
      "|Large  replacemen...|  305|\n",
      "|\"The Gu\" red shir...|  303|\n",
      "|\"The Gu\" red shir...|  296|\n",
      "+--------------------+-----+\n",
      "only showing top 5 rows\n",
      "\n"
     ]
    }
   ],
   "source": [
    "detallesOrdenes.groupby(\"Descripcion\").count().orderBy(\"count\", ascending=False).show(5)"
   ]
  },
  {
   "cell_type": "markdown",
   "metadata": {
    "id": "9bG1x9gWPn3b",
    "tags": []
   },
   "source": [
    "## Análisis de calidad de datos\n",
    "La calidad de los datos consiste en validar la idoneidad de los datos analizando varias dimensiones, entre las cuales resaltamos:\n",
    "- Completitud: Datos que no existen o no se conocen\n",
    "- Unicidad (Duplicidad): Datos que son idénticos en diferentes registros o registros con valores idénticos en atributos en los que no debería ocurrir\n",
    "- Consistencia: Esta medida se define por la validez o integridad del dato, en la definición de su estructura, al interior de una fila o entre diferentes filas de la misma fuente o de diferentes fuentes. El manejo de unidades en los datos y el significado del dato son generadores de inconsistencias.\n",
    "- Validez: a nivel de formato y de sentido de los datos más alla de sus valores\n",
    "\n",
    "Para asegurar una calidad mínima de los datos en estas dimensiones hay que entender su origen y posteriormente realizar un proceso de validación de cada una de las dimensiones de perfilamiento que llevará a un entendimiento de los datos disponibles.\n"
   ]
  },
  {
   "cell_type": "markdown",
   "metadata": {
    "id": "WKPFuI9uPn3b"
   },
   "source": [
    "A continuación se definen dos funciones, la primera cuenta los valores vacios por columna de dataframe, la segunda retorna un diccionario de columnas con cardinalidad superior al 50%\n",
    "\n",
    "Te invito a revisar los recursos de calidad de datos que hemos visto en el curso, a continuacion ejemplos daremos algunos ejemplos por cada dimensión para el caso del tutorial"
   ]
  },
  {
   "cell_type": "markdown",
   "metadata": {
    "id": "ZHLs1H0hPn3b"
   },
   "source": [
    "### Unicidad y validez\n",
    "\n",
    "La unicidad se revisó en la segunda regla de negocio y la validez se reviso en el perfilamiento general, en la regla de negocio 3 y en el análisis de la descripción al final de la sección de revisión de reglas de negocio"
   ]
  },
  {
   "cell_type": "markdown",
   "metadata": {
    "id": "QgkzeSm4Pn3b"
   },
   "source": [
    "### Completitud y validez"
   ]
  },
  {
   "cell_type": "code",
   "execution_count": 111,
   "metadata": {
    "id": "mIWH-vVoPn3b"
   },
   "outputs": [],
   "source": [
    "def contar_vacios(df):\n",
    "    resultados = []\n",
    "    for c in df.columns:\n",
    "        vacios = df.filter(df[c].isNull()).count()\n",
    "        if vacios!=0:\n",
    "            print('número de vacíos para columna '+c+': '+str( vacios ))\n",
    "            resultados.append(vacios)\n",
    "    return resultados\n",
    "\n",
    "def cardinalidad(df):\n",
    "    resultado = {}\n",
    "    for c in df.columns:\n",
    "        cardinalidad = df.select(col(c)).distinct().count()\n",
    "        if cardinalidad>=df.count()*0.5:\n",
    "            resultado[c] = cardinalidad\n",
    "    return resultado"
   ]
  },
  {
   "cell_type": "code",
   "execution_count": 112,
   "metadata": {
    "id": "da_z_ti-Pn3b",
    "outputId": "ecac9b39-d97a-422a-a579-698c5733ab7b"
   },
   "outputs": [
    {
     "name": "stdout",
     "output_type": "stream",
     "text": [
      "número de vacíos para columna Seleccionado_por_ID_de_persona: 13570\n",
      "número de vacíos para columna ID_de_pedido_pendiente: 79035\n",
      "número de vacíos para columna Comentarios: 88258\n",
      "número de vacíos para columna Instrucciones_de_entrega: 88258\n",
      "número de vacíos para columna Comentarios_internos: 88258\n",
      "número de vacíos para columna Seleccion_completada_cuando: 4347\n",
      "detalles de ordenes: \n",
      "número de vacíos para columna Precio_unitario: 983\n",
      "número de vacíos para columna Seleccion_completada_cuando: 982\n"
     ]
    }
   ],
   "source": [
    "columnas_vacias_ordenes = contar_vacios(ordenes)\n",
    "print('detalles de ordenes: ')\n",
    "columnas_vacias_detalles = contar_vacios(detallesOrdenes)"
   ]
  },
  {
   "cell_type": "code",
   "execution_count": 113,
   "metadata": {
    "id": "NxXQm_KEPn3c",
    "outputId": "419b9709-25fe-43dd-d63a-a9be645d11f7"
   },
   "outputs": [
    {
     "data": {
      "text/plain": [
       "({'ID_de_pedido': 54145}, {'Detalle_orden_ID': 57981, 'ID_de_pedido': 38742})"
      ]
     },
     "execution_count": 113,
     "metadata": {},
     "output_type": "execute_result"
    }
   ],
   "source": [
    "columnas_alta_cardinalidad_ordenes = cardinalidad(ordenes)\n",
    "columnas_alta_cardinalidad_detalles = cardinalidad(detallesOrdenes)\n",
    "columnas_alta_cardinalidad_ordenes, columnas_alta_cardinalidad_detalles"
   ]
  },
  {
   "cell_type": "markdown",
   "metadata": {
    "id": "vDX10qmfPn3c"
   },
   "source": [
    "Como podemos observar para las ordenes las columnas Seleccionado_por_ID_de_persona tiene 16662 vacios, ID_de_pedido_pendiente: 96905, Comentarios: 108291, Instrucciones_de_entrega: 108291, Comentarios_internos: 108291, Seleccion_completada_cuando: 5276, mientras que para los detalles de ordenes tenemos que las columnas con vacios son Precio_unitario: 7038 y Seleccion_completada_cuando: 3186. \n",
    "\n",
    "Respecto a cardinalidad, solo la columna Detalle_orden_ID tiene una cardinalidad superior al 50%."
   ]
  },
  {
   "cell_type": "markdown",
   "metadata": {
    "id": "LZyQcqCvPn3c"
   },
   "source": [
    "### Consistencia\n",
    "A nivel de consistencia algunos ejemplos de revisión son precios negativos, productos que aparecen en las ordenes pero que no esten registrados en la tabla de produtos. En nuestro caso vamos a verificar que todas las ordenes tengan detalle de orden y viceversa"
   ]
  },
  {
   "cell_type": "code",
   "execution_count": 114,
   "metadata": {
    "id": "uHEz7IylPn3c",
    "outputId": "0f987de9-4b5e-4532-e42a-a547d3207985"
   },
   "outputs": [
    {
     "data": {
      "text/plain": [
       "(44359, 28956)"
      ]
     },
     "execution_count": 114,
     "metadata": {},
     "output_type": "execute_result"
    }
   ],
   "source": [
    "#consistencia: revisar genially: definicion de consistencia\n",
    "ids_ordenes = set([x.ID_de_pedido for x in ordenes.select('ID_de_pedido').collect()])\n",
    "ids_detalles = set([x.ID_de_pedido for x in detallesOrdenes.select('ID_de_pedido').collect()])\n",
    "\n",
    "len(ids_ordenes-ids_detalles), len(ids_detalles-ids_ordenes)"
   ]
  },
  {
   "cell_type": "markdown",
   "metadata": {
    "id": "oU6a547APn3c"
   },
   "source": [
    "Como se puede observar hay una diferencia de 44.359 ordenes que no tienen detalles y hay 28.956 detalles que no tienen orden. Ninguno de los casos tiene sentido en el contexto de WideWorldImporters. Esta inconsistencia se notifica al negocio dado que no hay forma de conocer cuáles son los registros que pueden tener ids que no existen"
   ]
  },
  {
   "cell_type": "markdown",
   "metadata": {
    "id": "ct4KbukcPn3c"
   },
   "source": [
    "## Herramientas para facilitar el entendimiento de datos"
   ]
  },
  {
   "cell_type": "markdown",
   "metadata": {
    "id": "62jY4uoQPn3d"
   },
   "source": [
    "Algunas de las estadísticas antes desarrolladas pueden obtenerse por medio de herramientas como Pandas Profiling una herramienta muy útil, <b><i>Pero no perfecta ni completa</i></b>, es Pandas profiling que dado un conjunto de datos, nos muestra histogramas, estadísticas etc. A continuación guardamos el reporte en html"
   ]
  },
  {
   "cell_type": "code",
   "execution_count": 115,
   "metadata": {
    "colab": {
     "referenced_widgets": [
      "18d36d8316d14fb2b1046fd12e844ae4",
      "2d029404a2994346918423391fc63c41",
      "0ab77442375c4f09ab98151e743deebc",
      "fec3309b395249d6ac3ecb39f2031344"
     ]
    },
    "id": "TlWywoCUPn3d",
    "outputId": "1a013e5c-269b-4099-a169-b2dd14182d8a"
   },
   "outputs": [
    {
     "name": "stderr",
     "output_type": "stream",
     "text": [
      "Summarize dataset: 100%|██████████| 78/78 [03:43<00:00,  2.87s/it, Completed]                                                                             \n",
      "Generate report structure: 100%|██████████| 1/1 [00:04<00:00,  4.16s/it]\n",
      "Render HTML: 100%|██████████| 1/1 [00:03<00:00,  3.57s/it]\n",
      "Export report to file: 100%|██████████| 1/1 [00:00<00:00, 64.44it/s]\n"
     ]
    }
   ],
   "source": [
    "reporte = ProfileReport(ordenes.toPandas())\n",
    "reporte.to_file(PATH+\"reporte_prefilamiento.html\")"
   ]
  },
  {
   "cell_type": "markdown",
   "metadata": {
    "id": "Ng5FqIGqPn3d"
   },
   "source": [
    "Lo primero que hay que notar es que hay 3 secciones principales. La primera es un resumen, la segunda es un análisis por cada variable y luego tenemos interacciones y correlaciones entre variables. \n",
    "\n",
    "Seccion general del reporte:\n",
    "1. Tenemos 14 variables y 88.258 registros (es decir, ordenes), de las cuales 7 son numericas, 2 categoricas, 1 booleana, 1 datetime y 3 no soportadas (la herramienta entiende tipo de variable como tipo de dato, asi que la información que nos da no es necesariamente correcta en este aspecto).\n",
    "\n",
    "2. En los datos hay 29.3% de datos vacíos, (conclusión)\n",
    "\n",
    "3. El archivo ocupa en memoria 7.5 MB\n",
    "\n",
    "4. No hay registros duplicados\n",
    "\n",
    "Sección de variables del reporte:\n",
    "\n",
    "5. Note que para cada variable nos dan estadisticos como la media, mínimo y máximo asi como un histograma de distribución de la variable, para nuestros datos no observamos nada por fuera de lo comun. (Como valores extremos)\n",
    "\n",
    "6. La variable ID_de_pedido tiene 61.3% de valores distintos, es decir, es una variable con alta cardinalidad. Este tipo de variables no aportan a las relaciones entre filas o columnas, por lo que suelen no ser útiles a la hora de hacer análitica.\n",
    "\n",
    "7. La variable ID_cliente tiene solo el 0,8% de valores distintos, es decir que las ordenes que tenemos parecen ser de pocos clientes, pero que podrían ser recurrentes o fieles\n",
    "\n",
    "8. Hay 10 empleados en los datos de ordenes\n",
    "\n",
    "9. Seleccionado_por_ID_persona tiene 15,4% de datos vacíos, no es muy alto pero podríamos eliminarla si no es importante. Preguntar al negocio\n",
    "\n",
    "10. ID_de_pedido_pendiente tiene un porcentaje de 89,5% de valores vacíos, es casi constante y las columnas constantes no aportan a los análisis, preguntar al negocio si hay algún inconveniente en borrar esta columna\n",
    "\n",
    "11. Hay 1512 Fecha_de_pedido distintos, siendo el 3 de febrero del 2015 una de las fechas con más número de ordenes\n",
    "\n",
    "12. Fecha_de_entrega_esperada y Seleccion_completada_cuando tienen alta cardinalidad\n",
    "\n",
    "Sección de interacciones y correlaciones:\n",
    "\n",
    "Parecen haber columnas con correlaciones(Spearman) iguales a 1, esto significa que ambas columnas representan la misma información, idealmente no queremos columnas \"repetidas\", un ejemplo es ID_cliente y ID_de_persona_de_contacto, decidimos preguntarle al negocio si es necesario mantener ambas columnas"
   ]
  },
  {
   "cell_type": "markdown",
   "metadata": {
    "id": "cBQ9PDaBPn3d"
   },
   "source": [
    "<b>Cabe aclarar que un pandas profiling sin interpretación no es suficiente como análisis para realizar el entendimiento de los datos.\n",
    "\n",
    "Así mismo, recuerde que si es necesario, se debe utilizar otra herramienta (código, visualizaciones, etc) para poder completar el análisis estadístico.</b>"
   ]
  },
  {
   "cell_type": "markdown",
   "metadata": {
    "id": "eDf54JyKPn3d"
   },
   "source": [
    "### Algunas gráficas utiles: Diagrama de caja, dispersion, histogramas para entender las distribuciones de las variables\n",
    "\n",
    "Generalmente las gráficas se emplean para entender la distribución de cada variable, también sirven para visualizar la relación entre 2 o más variables\n",
    "\n",
    "Algunas gráficas útiles son los histogramas, disepersión, diagramas de caja. Hay varias maneras de implementarlos, con paquetes como matplotlib o pandas, con funciones propias de pyspark, etc, a continuacón mostramos cómo hacerlo a travez de pandas"
   ]
  },
  {
   "cell_type": "code",
   "execution_count": 116,
   "metadata": {
    "id": "HB--WS4-Pn3d",
    "outputId": "c2a41c9f-14f8-4d52-e59c-efc769e414c0"
   },
   "outputs": [
    {
     "data": {
      "text/plain": [
       "array([[<AxesSubplot:title={'center':'Cantidad_seleccionada'}>]],\n",
       "      dtype=object)"
      ]
     },
     "execution_count": 116,
     "metadata": {},
     "output_type": "execute_result"
    },
    {
     "data": {
      "image/png": "[encoded data removed]",
      "text/plain": [
       "<Figure size 432x288 with 1 Axes>"
      ]
     },
     "metadata": {
      "needs_background": "light"
     },
     "output_type": "display_data"
    }
   ],
   "source": [
    "#para valores extremos(subir a calidad)\n",
    "detallesOrdenes.toPandas().hist(column='Cantidad_seleccionada')"
   ]
  },
  {
   "cell_type": "code",
   "execution_count": 117,
   "metadata": {
    "id": "bJQ6CqOJPn3d"
   },
   "outputs": [],
   "source": [
    "cantidades = detallesOrdenes.groupby(\"Cantidad\").count().orderBy(\"count\", ascending=False)"
   ]
  },
  {
   "cell_type": "markdown",
   "metadata": {
    "id": "YRGn5uXAPn3e"
   },
   "source": [
    "Como se puede observar, el método retorna un dataframe, que vamos a usar para obtener dos arreglos, uno con el rango de cada una de las barras y otro con la cantidad de registros por rango. Se puede usar Matplotlib para graficar esta información:"
   ]
  },
  {
   "cell_type": "code",
   "execution_count": 118,
   "metadata": {
    "id": "wZY56uzKPn3e",
    "outputId": "d2323c1b-d785-49b8-8fd9-b76094b51657"
   },
   "outputs": [
    {
     "data": {
      "image/png": "[encoded data removed]",
      "text/plain": [
       "<Figure size 5803.2x576 with 1 Axes>"
      ]
     },
     "metadata": {
      "needs_background": "light"
     },
     "output_type": "display_data"
    }
   ],
   "source": [
    "def plotHistogramData(data):\n",
    "    binSides, binCounts = [row[0] for row in data.collect()], [row[1] for row in data.collect()]\n",
    "    binSides = [round(i, 2) for i in binSides]\n",
    "    N = len(binCounts)\n",
    "    ind = np.arange(N)\n",
    "    width = 1\n",
    "\n",
    "    fig, ax = plt.subplots()\n",
    "    rects1 = ax.bar(ind+0.5, binCounts, width, color='b')\n",
    "    \n",
    "    fig.set_size_inches(1.3*N, 8)\n",
    "\n",
    "    ax.set_ylabel('Frecuencia')\n",
    "    ax.set_xlabel('Rango')\n",
    "    ax.set_title('Histograma')\n",
    "    ax.set_xticks(np.arange(N))\n",
    "    ax.set_xticklabels(binSides)\n",
    "\n",
    "    plt.show()\n",
    "\n",
    "plotHistogramData(cantidades)"
   ]
  },
  {
   "cell_type": "markdown",
   "metadata": {
    "id": "47eVd0NJPn3e"
   },
   "source": [
    "El diagrama de dispersion, nos muestra los datos para dos variables en forma de puntos y es muy útil para entender la relación entre dichas variables"
   ]
  },
  {
   "cell_type": "code",
   "execution_count": 119,
   "metadata": {
    "id": "T9sdak3YPn3e",
    "outputId": "657049d5-77c5-4414-e4f5-ecf90c7bd343"
   },
   "outputs": [
    {
     "data": {
      "image/png": "[encoded data removed]",
      "text/plain": [
       "<Figure size 720x432 with 1 Axes>"
      ]
     },
     "metadata": {
      "needs_background": "light"
     },
     "output_type": "display_data"
    }
   ],
   "source": [
    "unitPrices = [row['Precio_unitario'] for row in detallesOrdenes.select(col('Precio_unitario')).collect()]\n",
    "quantities = [row['Cantidad_seleccionada'] for row in detallesOrdenes.collect()]\n",
    "\n",
    "fig, ax = plt.subplots(figsize=(10, 6))\n",
    "ax.scatter(x = unitPrices, y = quantities)\n",
    "plt.xlabel(\"Precios unitarios\")\n",
    "plt.ylabel(\"Cantidades\")\n",
    "\n",
    "plt.show()"
   ]
  },
  {
   "cell_type": "markdown",
   "metadata": {
    "id": "ltTluhtIPn3e"
   },
   "source": [
    "### Otras opciones de exploración\n",
    "PySpark también da la opción de crear tablas de pivotes. En el siguiente ejemplo, se muestra cómo hacer una tabla que permite ver cuántas ordenes hay por cada <i>Fecha_de_pedido</i> y por cada <i>ID_de_vendedor</i>, es decir por fecha y por empleado cuantas ordenes existen:"
   ]
  },
  {
   "cell_type": "code",
   "execution_count": 120,
   "metadata": {
    "id": "jTU_GHMIPn3e",
    "outputId": "d5c71e84-8815-4723-c916-d9b7ee138952"
   },
   "outputs": [
    {
     "name": "stdout",
     "output_type": "stream",
     "text": [
      "+---------------+----+---+---+----+----+----+---+----+---+----+\n",
      "|Fecha_de_pedido|   2|  3|  6|   7|   8|  13| 14|  15| 16|  20|\n",
      "+---------------+----+---+---+----+----+----+---+----+---+----+\n",
      "|     2014-12-13|   7|  8|  7|   5|   3|   6|  7|   6|  2|   6|\n",
      "|     2014-05-27|   6|  7|  8|   6|   2|  11|  6|   5| 13|   6|\n",
      "|     2014-02-22|   6|  4|  2|   6|   4|   3|  2|null| 11|   7|\n",
      "|     2015-05-01|  22| 13| 17|   2|  14|  13|  9|  11| 19|  16|\n",
      "|    Feb 27,2014|   5|  3|  6|   1|   3|null|  3|   3|  7|   1|\n",
      "|     2015-02-09|   2| 13| 15|  18|   8|   6|  6|   7| 15|  15|\n",
      "|    Sep 21,2015|   2|  6|  7|   6|   2|   2|  3|   3|  3|   2|\n",
      "|     2014-07-14|  13| 10| 15|   7|   5|  13| 15|  10| 17|  12|\n",
      "|    Jul 26,2014|   2|  2|  3|   3|   1|   1|  3|null|  1|   2|\n",
      "|    May 14,2016|null|  3|  2|   5|   1|   4|  3|null|  1|   3|\n",
      "|    Aug 22,2015|   1|  1|  2|   4|null|   2|  2|   2|  5|   1|\n",
      "|     2014-12-11|  13| 18|  4|   4|   9|  10|  2|  11|  5|   2|\n",
      "|     2015-02-27|  19| 14| 10|  10|  22|  19| 17|  17|  9|  18|\n",
      "|     2016-04-22|   7| 19|  5|   5|   5|   4|  7|  12| 12|  19|\n",
      "|    Jan 03,2015|null|  1|  4|   1|   3|   1|  1|null|  2|null|\n",
      "|     2015-02-28|   9|  4|  5|   6|   5|  13|  8|   3|  8|   8|\n",
      "|     2015-11-20|  11|  6| 11|  10|  23|  15| 15|   9| 16|  21|\n",
      "|    Mar 25,2015|null|  2|  5|   4|   3|   5|  2|   4|  3|   3|\n",
      "|     2016-05-21|   3|  4|  3|null|   1|   3|  3|   6|  4|   1|\n",
      "|    Oct 14,2014|   4|  4|  3|   1|   4|   4|  5|   5|  1|   3|\n",
      "+---------------+----+---+---+----+----+----+---+----+---+----+\n",
      "only showing top 20 rows\n",
      "\n"
     ]
    }
   ],
   "source": [
    "ordenes.groupBy('Fecha_de_pedido').pivot('ID_de_vendedor').count().show()"
   ]
  },
  {
   "cell_type": "markdown",
   "metadata": {
    "id": "h0eRDQmcPn3f"
   },
   "source": [
    "Otro análisis muy útil es el de la correlación lineal entre dos variables, para ver la matriz de correlacion que mide esta dependencia o la fuerza de la relación lineal entre dos variables vamos a usar pandas, la interpretación es que si entre dos variables A y B  el valor obtenido es cercano a -1 o a 1, se interpreta como que A y B contienen la misma información y por ende no es necesario mantener ambas columnas"
   ]
  },
  {
   "cell_type": "code",
   "execution_count": 121,
   "metadata": {
    "id": "TydBsUX-Pn3f",
    "outputId": "e4779562-9cd6-4881-e97f-d18e5e75f253"
   },
   "outputs": [
    {
     "name": "stderr",
     "output_type": "stream",
     "text": [
      "C:\\Users\\estudiante\\anaconda3\\envs\\Tutoriales\\lib\\site-packages\\pandas\\io\\formats\\style.py:2813: RuntimeWarning: All-NaN slice encountered\n",
      "  smin = np.nanmin(gmap) if vmin is None else vmin\n",
      "C:\\Users\\estudiante\\anaconda3\\envs\\Tutoriales\\lib\\site-packages\\pandas\\io\\formats\\style.py:2814: RuntimeWarning: All-NaN slice encountered\n",
      "  smax = np.nanmax(gmap) if vmax is None else vmax\n"
     ]
    },
    {
     "data": {
      "text/html": [
       "<style type=\"text/css\">\n",
       "#T_7ee59_row0_col0, #T_7ee59_row1_col1, #T_7ee59_row2_col2, #T_7ee59_row4_col4, #T_7ee59_row5_col5 {\n",
       "  background-color: #b40426;\n",
       "  color: #f1f1f1;\n",
       "}\n",
       "#T_7ee59_row0_col1 {\n",
       "  background-color: #4c66d6;\n",
       "  color: #f1f1f1;\n",
       "}\n",
       "#T_7ee59_row0_col2 {\n",
       "  background-color: #4358cb;\n",
       "  color: #f1f1f1;\n",
       "}\n",
       "#T_7ee59_row0_col3, #T_7ee59_row1_col3, #T_7ee59_row2_col3, #T_7ee59_row3_col0, #T_7ee59_row3_col1, #T_7ee59_row3_col2, #T_7ee59_row3_col3, #T_7ee59_row3_col4, #T_7ee59_row3_col5, #T_7ee59_row4_col3, #T_7ee59_row5_col3 {\n",
       "  background-color: #000000;\n",
       "  color: #f1f1f1;\n",
       "}\n",
       "#T_7ee59_row0_col4, #T_7ee59_row2_col4, #T_7ee59_row4_col1 {\n",
       "  background-color: #3c4ec2;\n",
       "  color: #f1f1f1;\n",
       "}\n",
       "#T_7ee59_row0_col5 {\n",
       "  background-color: #3e51c5;\n",
       "  color: #f1f1f1;\n",
       "}\n",
       "#T_7ee59_row1_col0 {\n",
       "  background-color: #4961d2;\n",
       "  color: #f1f1f1;\n",
       "}\n",
       "#T_7ee59_row1_col2, #T_7ee59_row1_col4, #T_7ee59_row1_col5, #T_7ee59_row2_col1, #T_7ee59_row4_col0, #T_7ee59_row5_col0, #T_7ee59_row5_col1, #T_7ee59_row5_col4 {\n",
       "  background-color: #3b4cc0;\n",
       "  color: #f1f1f1;\n",
       "}\n",
       "#T_7ee59_row2_col0 {\n",
       "  background-color: #4055c8;\n",
       "  color: #f1f1f1;\n",
       "}\n",
       "#T_7ee59_row2_col5, #T_7ee59_row5_col2 {\n",
       "  background-color: #e1dad6;\n",
       "  color: #000000;\n",
       "}\n",
       "#T_7ee59_row4_col2, #T_7ee59_row4_col5 {\n",
       "  background-color: #3d50c3;\n",
       "  color: #f1f1f1;\n",
       "}\n",
       "</style>\n",
       "<table id=\"T_7ee59_\">\n",
       "  <thead>\n",
       "    <tr>\n",
       "      <th class=\"blank level0\" >&nbsp;</th>\n",
       "      <th class=\"col_heading level0 col0\" >Detalle_orden_ID</th>\n",
       "      <th class=\"col_heading level0 col1\" >ID_de_pedido</th>\n",
       "      <th class=\"col_heading level0 col2\" >ID_Producto</th>\n",
       "      <th class=\"col_heading level0 col3\" >ID_Tipo_Paquete</th>\n",
       "      <th class=\"col_heading level0 col4\" >Cantidad</th>\n",
       "      <th class=\"col_heading level0 col5\" >Cantidad_seleccionada</th>\n",
       "    </tr>\n",
       "  </thead>\n",
       "  <tbody>\n",
       "    <tr>\n",
       "      <th id=\"T_7ee59_level0_row0\" class=\"row_heading level0 row0\" >Detalle_orden_ID</th>\n",
       "      <td id=\"T_7ee59_row0_col0\" class=\"data row0 col0\" >1.000000</td>\n",
       "      <td id=\"T_7ee59_row0_col1\" class=\"data row0 col1\" >0.052772</td>\n",
       "      <td id=\"T_7ee59_row0_col2\" class=\"data row0 col2\" >0.022949</td>\n",
       "      <td id=\"T_7ee59_row0_col3\" class=\"data row0 col3\" >nan</td>\n",
       "      <td id=\"T_7ee59_row0_col4\" class=\"data row0 col4\" >0.003160</td>\n",
       "      <td id=\"T_7ee59_row0_col5\" class=\"data row0 col5\" >0.003761</td>\n",
       "    </tr>\n",
       "    <tr>\n",
       "      <th id=\"T_7ee59_level0_row1\" class=\"row_heading level0 row1\" >ID_de_pedido</th>\n",
       "      <td id=\"T_7ee59_row1_col0\" class=\"data row1 col0\" >0.052772</td>\n",
       "      <td id=\"T_7ee59_row1_col1\" class=\"data row1 col1\" >1.000000</td>\n",
       "      <td id=\"T_7ee59_row1_col2\" class=\"data row1 col2\" >-0.007438</td>\n",
       "      <td id=\"T_7ee59_row1_col3\" class=\"data row1 col3\" >nan</td>\n",
       "      <td id=\"T_7ee59_row1_col4\" class=\"data row1 col4\" >-0.003613</td>\n",
       "      <td id=\"T_7ee59_row1_col5\" class=\"data row1 col5\" >-0.008976</td>\n",
       "    </tr>\n",
       "    <tr>\n",
       "      <th id=\"T_7ee59_level0_row2\" class=\"row_heading level0 row2\" >ID_Producto</th>\n",
       "      <td id=\"T_7ee59_row2_col0\" class=\"data row2 col0\" >0.022949</td>\n",
       "      <td id=\"T_7ee59_row2_col1\" class=\"data row2 col1\" >-0.007438</td>\n",
       "      <td id=\"T_7ee59_row2_col2\" class=\"data row2 col2\" >1.000000</td>\n",
       "      <td id=\"T_7ee59_row2_col3\" class=\"data row2 col3\" >nan</td>\n",
       "      <td id=\"T_7ee59_row2_col4\" class=\"data row2 col4\" >0.002252</td>\n",
       "      <td id=\"T_7ee59_row2_col5\" class=\"data row2 col5\" >0.513602</td>\n",
       "    </tr>\n",
       "    <tr>\n",
       "      <th id=\"T_7ee59_level0_row3\" class=\"row_heading level0 row3\" >ID_Tipo_Paquete</th>\n",
       "      <td id=\"T_7ee59_row3_col0\" class=\"data row3 col0\" >nan</td>\n",
       "      <td id=\"T_7ee59_row3_col1\" class=\"data row3 col1\" >nan</td>\n",
       "      <td id=\"T_7ee59_row3_col2\" class=\"data row3 col2\" >nan</td>\n",
       "      <td id=\"T_7ee59_row3_col3\" class=\"data row3 col3\" >nan</td>\n",
       "      <td id=\"T_7ee59_row3_col4\" class=\"data row3 col4\" >nan</td>\n",
       "      <td id=\"T_7ee59_row3_col5\" class=\"data row3 col5\" >nan</td>\n",
       "    </tr>\n",
       "    <tr>\n",
       "      <th id=\"T_7ee59_level0_row4\" class=\"row_heading level0 row4\" >Cantidad</th>\n",
       "      <td id=\"T_7ee59_row4_col0\" class=\"data row4 col0\" >0.003160</td>\n",
       "      <td id=\"T_7ee59_row4_col1\" class=\"data row4 col1\" >-0.003613</td>\n",
       "      <td id=\"T_7ee59_row4_col2\" class=\"data row4 col2\" >0.002252</td>\n",
       "      <td id=\"T_7ee59_row4_col3\" class=\"data row4 col3\" >nan</td>\n",
       "      <td id=\"T_7ee59_row4_col4\" class=\"data row4 col4\" >1.000000</td>\n",
       "      <td id=\"T_7ee59_row4_col5\" class=\"data row4 col5\" >-0.001033</td>\n",
       "    </tr>\n",
       "    <tr>\n",
       "      <th id=\"T_7ee59_level0_row5\" class=\"row_heading level0 row5\" >Cantidad_seleccionada</th>\n",
       "      <td id=\"T_7ee59_row5_col0\" class=\"data row5 col0\" >0.003761</td>\n",
       "      <td id=\"T_7ee59_row5_col1\" class=\"data row5 col1\" >-0.008976</td>\n",
       "      <td id=\"T_7ee59_row5_col2\" class=\"data row5 col2\" >0.513602</td>\n",
       "      <td id=\"T_7ee59_row5_col3\" class=\"data row5 col3\" >nan</td>\n",
       "      <td id=\"T_7ee59_row5_col4\" class=\"data row5 col4\" >-0.001033</td>\n",
       "      <td id=\"T_7ee59_row5_col5\" class=\"data row5 col5\" >1.000000</td>\n",
       "    </tr>\n",
       "  </tbody>\n",
       "</table>\n"
      ],
      "text/plain": [
       "<pandas.io.formats.style.Styler at 0x1e8d5caa9c8>"
      ]
     },
     "execution_count": 121,
     "metadata": {},
     "output_type": "execute_result"
    }
   ],
   "source": [
    "corr = detallesOrdenes.toPandas().corr(method='pearson')\n",
    "corr.style.background_gradient(cmap='coolwarm')"
   ]
  },
  {
   "cell_type": "markdown",
   "metadata": {
    "id": "kxj4KoVDPn3f"
   },
   "source": [
    "## Conclusiones/resultados"
   ]
  },
  {
   "cell_type": "markdown",
   "metadata": {
    "id": "snq4CGXQPn3f"
   },
   "source": [
    "\n",
    "**Conclusiones generales:**\n",
    "\n",
    "1. En la tabla de ordenes tenemos información **relacionada con el cliente, el empleado y con la órden**. Por otra parte, en los detalles de ordenes se tiene **información del pedido y del producto**\n",
    "2. Una fila de órdenes representa la órden realizada por un cliente y atendida por un empleado. Mientras que el detalle de órden coincide con su nombre y contiene el detalle de cada producto solicitado en una órden.\n",
    "3. ¿cuál es la diferencia entre cantidad y cantidad seleccionada?\n",
    "\n",
    "**Conclusiones de reglas de negocio:**\n",
    "\n",
    "1. La regla 1 no es completamente cierta, pues en los datos no hay ningun registro con tasa_de_impuesto de 10%, es necesario pedir aclaraciones al negocio en relación a este descubrimiento\n",
    "2. La regla 2 no es cierta dado que el número de registros no parece coincidir con el número dado por el negocio, Hay 14.079 ordenes completamente repetidas y 258 registros que representan el mismo detalle de orden pero con valores distintos, los primeros se pueden eliminar, pero ¿qué deberíamos hacer con los segundos?\n",
    "3. Los datos comienzan en enero 1 de 2014, sin embargo la regla 2 nos dice que debería ser desde 2013, ¿es un error o faltan datos?\n",
    "4. Algunos formatos de fecha no coinciden con el dado en la regla 3, por ejemplo del atributo Fecha_de_pedido hay 20 mil registros que no tienen ese formato. En este caso el cambio de formato se puede implementar, ¿estan de acuerdo?\n",
    "5. La descripcion de algunos productos es \"a\", ¿esto es correcto?\n",
    "\n",
    "**Conclusiones de calidad:**\n",
    "\n",
    "1. Las columnas Comentarios, Instrucciones_de_entrega y Comentarios_internos tienen un conteo igual a 0, es decir son columnas vacías por lo que se pueden eliminar\n",
    "2. Vemos por ejemplo que el valor máximo de Cantidad indica valores anómalos o extremos, pues en su percentil 75% el valor máximo era 60, es decir, para el 75% de los datos, el valor de Cantidad no superaba el 70, pero el valor máximo es de 10 millones\n",
    "3. Observamos que la columna ID_Tipo_Paquete solo toma el valor 7, que podría ser o no un error, se notifica al negocio.\n",
    "4. Para las ordenes las columnas Seleccionado_por_ID_de_persona tiene 16662 vacios, ID_de_pedido_pendiente: 96905, Comentarios: 108291, Instrucciones_de_entrega: 108291, Comentarios_internos: 108291, Seleccion_completada_cuando: 5276, mientras que para los detalles de ordenes tenemos que las columnas con vacios son Precio_unitario: 7038 y Seleccion_completada_cuando: 3186.\n",
    "5. Respecto a cardinalidad, solo la columna Detalle_orden_ID tiene una cardinalidad superior al 50%.\n",
    "6. Como se puede observar hay una diferencia de 44.359 ordenes que no tienen detalles y hay 28.956 detalles que no tienen orden. Ninguno de los casos tiene sentido en el contexto de WideWorldImporters. ¿Tienen alguna forma de identificar cual detalle corresponde a cual orden?\n",
    "\n",
    "**Usando herramientas:**\n",
    "\n",
    "Seccion general del reporte:\n",
    "1. Tenemos 14 variables y 88.258 registros (es decir, ordenes), de las cuales 7 son numericas, 2 categoricas, 1 booleana, 1 datetime y 3 no soportadas (la herramienta entiende tipo de variable como tipo de dato, asi que la información que nos da no es necesariamente correcta en este aspecto).\n",
    "\n",
    "2. En los datos hay 29.3% de datos vacíos, (conclusión)\n",
    "\n",
    "3. El archivo ocupa en memoria 7.5 MB\n",
    "\n",
    "4. No hay registros duplicados\n",
    "\n",
    "Sección de variables del reporte:\n",
    "\n",
    "5. Note que para cada variable nos dan estadisticos como la media, mínimo y máximo asi como un histograma de distribución de la variable, para nuestros datos no observamos nada por fuera de lo comun. (Como valores extremos)\n",
    "\n",
    "6. La variable ID_de_pedido tiene 61.3% de valores distintos, es decir, es una variable con alta cardinalidad. Este tipo de variables no aportan a las relaciones entre filas o columnas, por lo que suelen no ser útiles a la hora de hacer análitica.\n",
    "\n",
    "7. La variable ID_cliente tiene solo el 0,8% de valores distintos, es decir que las ordenes que tenemos parecen ser de pocos clientes, pero que podrían ser recurrentes o fieles\n",
    "\n",
    "8. Hay 10 empleados en los datos de ordenes\n",
    "\n",
    "9. Seleccionado_por_ID_persona tiene 15,4% de datos vacíos, no es muy alto pero podríamos eliminarla si no es importante. Preguntar al negocio\n",
    "\n",
    "10. ID_de_pedido_pendiente tiene un porcentaje de 89,5% de valores vacíos, es casi constante y las columnas constantes no aportan a los análisis, preguntar al negocio si hay algún inconveniente en borrar esta columna\n",
    "\n",
    "11. Hay 1512 Fecha_de_pedido distintos, siendo el 3 de febrero del 2015 una de las fechas con más número de ordenes\n",
    "\n",
    "12. Fecha_de_entrega_esperada y Seleccion_completada_cuando tienen alta cardinalidad\n",
    "\n",
    "Sección de correlación:\n",
    "\n",
    "13. Parecen haber columnas con correlaciones(Spearman) iguales a 1, esto significa que ambas columnas representan la misma información, idealmente no queremos columnas \"repetidas\", un ejemplo es ID_cliente y ID_de_persona_de_contacto, decidimos preguntarle al negocio si es necesario mantener ambas columnas\n",
    "\n",
    "**Conclusiones de consultoria**\n",
    "\n",
    "![Requerimiento](./Requerimiento.PNG)\n",
    "\n",
    "Teniendo en cuenta el requerimiento de WWI, consideramos que es posible llevar a cabo una solucióon pues contamos con la información necesaria especificada en el análisis requerido, sin embargo es necesario realizar correcciones a los datos y obtener aclaraciones de parte del negocio para entender completamente la necesidad de negocio"
   ]
  },
  {
   "cell_type": "markdown",
   "metadata": {
    "id": "RPsIPacsPn3f"
   },
   "source": [
    "Para comprobar su comprensión de esta sección, lo invitamos a responder la pregunta:\n",
    "\n",
    "    ¿Qué funcionalidades de PySpark puedo utilizar para realizar el entendimiento de datos y cómo las puedo utilizar?\n",
    "    \n",
    "Como parte de nuestro trabajo es preveer posibles soluciones a las conclusiones de perfilamiento, por ende lo invitamos a responder:\n",
    "\n",
    "    ¿Qué métodos podría utilizar para reemplazar los valores nulos de una columna por el promedio de la misma?"
   ]
  },
  {
   "cell_type": "markdown",
   "metadata": {
    "id": "cpWpho0CPn3f"
   },
   "source": [
    "# 5. Tarea\n",
    "Espacio para desarrollar la tarea propuesta "
   ]
  },
  {
   "cell_type": "markdown",
   "metadata": {},
   "source": [
    "**Proyecto Wide World Importers nos contrata como consultores para hacer un proyecto de analítica 1.0, \n",
    "en el cual quiere entender el comportamiento de los clientes o vendedores a partir de órdenes de venta con el fin de monitorear el logro de los objetivos estratégicos anteriores; para lo cual se iniciael proceso de entendimiento de datos de la tabla movimientosCopia, que registra el movimiento en inventario de un producto. La empresa no compartió información de las tablas de clientes ni de proveedores para esta actividad.**"
   ]
  },
  {
   "cell_type": "markdown",
   "metadata": {
    "id": "IPhtXcD1Pn3g"
   },
   "source": [
    "### Perfilamiento de datos"
   ]
  },
  {
   "cell_type": "code",
   "execution_count": 122,
   "metadata": {
    "id": "0JCXGvj0Pn3g"
   },
   "outputs": [
    {
     "name": "stdout",
     "output_type": "stream",
     "text": [
      "+---------------------+----------+-----------------+---------+---------+-----------+---------------+----------------+--------+\n",
      "|TransaccionProductoID|ProductoID|TipoTransaccionID|ClienteID|InvoiceID|ProveedorID|OrdenDeCompraID|FechaTransaccion|Cantidad|\n",
      "+---------------------+----------+-----------------+---------+---------+-----------+---------------+----------------+--------+\n",
      "|               118903|       217|               10|    476.0|  24904.0|           |               |     Apr 25,2014|   -40.0|\n",
      "|               286890|       135|               10|     33.0|  60117.0|           |               |     Dec 10,2015|    -7.0|\n",
      "|               285233|       111|               10|    180.0|  59768.0|           |               |     Dec 04,2015|    -2.0|\n",
      "|               290145|       213|               10|     33.0|  60795.0|           |               |     Dec 23,2015|    -3.0|\n",
      "|               247492|        90|               10|     55.0|  51851.0|           |               |     Jul 27,2015|   -24.0|\n",
      "|               157714|       212|               10|    146.0|  33043.0|           |               |     Sep 15,2014|   -20.0|\n",
      "|               250024|       218|               10|    585.0|  52377.0|           |               |     Aug 04,2015|   -60.0|\n",
      "|               200801|       120|               10|     30.0|  42049.0|           |               |     Feb 23,2015|    -3.0|\n",
      "|               221525|       129|               10|    596.0|  46388.0|           |               |     May 01,2015|    -7.0|\n",
      "|               295331|       197|               10|   1037.0|  61886.0|           |               |     Jan 08,2016|  -216.0|\n",
      "|               110972|       162|               10|    137.0|  23228.0|           |               |     Mar 26,2014|   -20.0|\n",
      "|               249110|       209|               10|    552.0|  52188.0|           |               |     Jul 31,2015|   -25.0|\n",
      "|               154624|       149|               10|    519.0|  32401.0|           |               |     Sep 02,2014|   -36.0|\n",
      "|               313072|        49|               10|    141.0|  65643.0|           |               |     Mar 15,2016|    -8.0|\n",
      "|               335449|       150|               10|    150.0|  70341.0|           |               |     May 28,2016|    -4.0|\n",
      "|               259859|       146|               10|     43.0|  54454.0|           |               |     Sep 09,2015|   -96.0|\n",
      "|               126490|       189|               10|     71.0|  26484.0|           |               |     May 23,2014|  -260.0|\n",
      "|               151545|        90|               10|     84.0|  31758.0|           |               |     Aug 20,2014|   -24.0|\n",
      "|               191958|        73|               10|    119.0|  40202.0|           |               |     Jan 21,2015|   -10.0|\n",
      "|               291834|       131|               10|   1006.0|  61153.0|           |               |     Dec 29,2015|    -6.0|\n",
      "|               148416|       178|               10|    587.0|  31092.0|           |               |     Aug 08,2014|  -200.0|\n",
      "|               101834|       199|               10|    977.0|  21338.0|           |               |     Feb 18,2014|  -216.0|\n",
      "|               283403|        68|               10|    458.0|  59379.0|           |               |     Nov 27,2015|    -6.0|\n",
      "|               184461|       214|               10|    813.0|  38631.0|           |               |     Dec 24,2014|    -4.0|\n",
      "|                96464|        53|               10|    514.0|  20201.0|           |               |     Jan 28,2014|    -1.0|\n",
      "+---------------------+----------+-----------------+---------+---------+-----------+---------------+----------------+--------+\n",
      "only showing top 25 rows\n",
      "\n"
     ]
    }
   ],
   "source": [
    "sql_movimientos = 'WWImportersTransactional.movimientosCopia'\n",
    "movimientos = obtener_dataframe_de_bd(db_connection_string, sql_movimientos, db_user, db_psswd)\n",
    "movimientos.show(25)"
   ]
  },
  {
   "cell_type": "markdown",
   "metadata": {},
   "source": [
    "En la tabla de \"movimientosCopia\", se puede apreciar que se dispone de información relacionada con la entrada y salida de productos en los inventarios de la compañía. Esta tabla proporciona detalles acerca de las transacciones de inventario, la adquisición de productos y las ventas de productos, según la naturaleza de cada movimiento.\n",
    "\n",
    "La información relativa a las transacciones incluye campos como \"TransaccionProductoID\", \"ProductoID\", \"TipoTransaccionID\", \"FechaTransaccion\" y \"Cantidad\". Por otro lado, la información sobre la adquisición de productos (compras) se compone de los campos \"ProductoID\", \"ProveedorID\", \"OrdenDeCompraID\", \"FechaTransaccion\" y \"Cantidad\". Mientras que la información sobre las salidas de productos (ventas) consta de \"InvoiceID\", \"ClienteID\", \"ProductoID\", \"FechaTransaccion\" y \"Cantidad\".\n",
    "\n",
    "Es importante destacar que estos datos se suponen provenientes de un sistema transaccional en el que las entradas y salidas de productos se generan de forma independiente. La tabla \"movimientosCopia\" recopila esta información, proporcionando una representación reflejada de los mismos, incluyendo los ajustes realizados a los inventarios físicos."
   ]
  },
  {
   "cell_type": "code",
   "execution_count": 44,
   "metadata": {},
   "outputs": [
    {
     "name": "stdout",
     "output_type": "stream",
     "text": [
      "+-----------------+------+\n",
      "|TipoTransaccionID| count|\n",
      "+-----------------+------+\n",
      "|               12|    46|\n",
      "|               10|197136|\n",
      "|               11|  7110|\n",
      "+-----------------+------+\n",
      "\n"
     ]
    }
   ],
   "source": [
    "movimientos.select(\"TipoTransaccionID\").distinct().count()\n",
    "movimientos.groupBy(\"TipoTransaccionID\").count().show()"
   ]
  },
  {
   "cell_type": "markdown",
   "metadata": {},
   "source": [
    "Con la interpretación previamente realizada, se procede a explorar los diferentes tipos de transacciones con el propósito de identificar registros clave y dar inicio a la planificación de los procesos de procesamiento de datos necesarios. Se lleva a cabo una agrupación de los registros proporcionados con el fin de identificar la categoría predominante y comprender las razones detrás de los valores positivos o negativos en la columna \"Cantidad\" de la tabla suministrada. Además, se verifica la cantidad de movimientos correspondientes a cada tipología de transacción proporcionada. Se observa que la mayoría de los movimientos se encuentran en el \"Tipo de Transacción:10\", lo cual se presume corresponde a las ventas realizadas por la empresa."
   ]
  },
  {
   "cell_type": "code",
   "execution_count": 123,
   "metadata": {},
   "outputs": [
    {
     "name": "stdout",
     "output_type": "stream",
     "text": [
      "+---------+-----+\n",
      "|InvoiceID|count|\n",
      "+---------+-----+\n",
      "|  30102.0|    5|\n",
      "|  39221.0|    3|\n",
      "|  28134.0|    4|\n",
      "|  50815.0|    3|\n",
      "|  51013.0|    4|\n",
      "|  26597.0|    4|\n",
      "|  68581.0|    2|\n",
      "|  42071.0|    3|\n",
      "|  33322.0|    2|\n",
      "|  67357.0|    4|\n",
      "|  23535.0|    2|\n",
      "|  36870.0|    2|\n",
      "|  36982.0|    5|\n",
      "|  36504.0|    5|\n",
      "|  42470.0|    7|\n",
      "|  21606.0|    5|\n",
      "|  28816.0|    2|\n",
      "|  42406.0|    5|\n",
      "|  29559.0|    5|\n",
      "|  21825.0|    4|\n",
      "+---------+-----+\n",
      "only showing top 20 rows\n",
      "\n"
     ]
    }
   ],
   "source": [
    "movimientos.groupBy(\"InvoiceID\").count().show()"
   ]
  },
  {
   "cell_type": "code",
   "execution_count": 124,
   "metadata": {},
   "outputs": [
    {
     "name": "stdout",
     "output_type": "stream",
     "text": [
      "+---------------+-----+\n",
      "|OrdenDeCompraID|count|\n",
      "+---------------+-----+\n",
      "|          602.0|    6|\n",
      "|         1008.0|    3|\n",
      "|         1496.0|    7|\n",
      "|         1495.0|    2|\n",
      "|         1336.0|    4|\n",
      "|          886.0|    4|\n",
      "|         1436.0|    6|\n",
      "|         1047.0|    3|\n",
      "|         1763.0|    1|\n",
      "|         1405.0|    3|\n",
      "|         1974.0|    4|\n",
      "|          985.0|    3|\n",
      "|          884.0|    4|\n",
      "|         1858.0|    4|\n",
      "|         1192.0|    7|\n",
      "|         1673.0|    3|\n",
      "|         1828.0|    3|\n",
      "|         1153.0|    6|\n",
      "|          931.0|    9|\n",
      "|         1372.0|    3|\n",
      "+---------------+-----+\n",
      "only showing top 20 rows\n",
      "\n"
     ]
    }
   ],
   "source": [
    "movimientos.groupBy(\"OrdenDeCompraID\").count().show()"
   ]
  },
  {
   "cell_type": "markdown",
   "metadata": {},
   "source": [
    "Se procede a agrupar los datos según los campos \"InvoiceID\" y \"OrdenesDeCompraID\" con el propósito de poder identificar la singularidad de cada uno de los registros proporcionados. Esto revela que se repiten las columnas que se presumen corresponden a los identificadores de los movimientos de entrada y salida de productos. A partir de esta observación, se puede concluir que cada fila de datos evidencia la trazabilidad de cada producto en relación a algún movimiento dentro de la compañía."
   ]
  },
  {
   "cell_type": "code",
   "execution_count": 125,
   "metadata": {},
   "outputs": [
    {
     "data": {
      "text/plain": [
       "227"
      ]
     },
     "execution_count": 125,
     "metadata": {},
     "output_type": "execute_result"
    }
   ],
   "source": [
    "movimientos.select(\"ProductoID\").distinct().count()"
   ]
  },
  {
   "cell_type": "code",
   "execution_count": 126,
   "metadata": {},
   "outputs": [
    {
     "data": {
      "text/plain": [
       "173659"
      ]
     },
     "execution_count": 126,
     "metadata": {},
     "output_type": "execute_result"
    }
   ],
   "source": [
    "movimientos.select(\"TransaccionProductoID\").distinct().count()"
   ]
  },
  {
   "cell_type": "code",
   "execution_count": 127,
   "metadata": {},
   "outputs": [
    {
     "data": {
      "text/plain": [
       "51831"
      ]
     },
     "execution_count": 127,
     "metadata": {},
     "output_type": "execute_result"
    }
   ],
   "source": [
    "movimientos.select(\"InvoiceID\").distinct().count()"
   ]
  },
  {
   "cell_type": "code",
   "execution_count": 128,
   "metadata": {},
   "outputs": [
    {
     "name": "stdout",
     "output_type": "stream",
     "text": [
      "+---------------------+\n",
      "|min(FechaTransaccion)|\n",
      "+---------------------+\n",
      "| 2013-12-31 07:00:...|\n",
      "+---------------------+\n",
      "\n"
     ]
    }
   ],
   "source": [
    "movimientos.agg({'FechaTransaccion': 'Min'}).show()"
   ]
  },
  {
   "cell_type": "markdown",
   "metadata": {},
   "source": [
    "Se llevan a cabo análisis de conteos únicos para ciertas columnas de la tabla, con el fin de dimensionar la organización y evaluar la cantidad de movimientos que se han ejecutado durante el período de análisis, que abarca los últimos 9 años. Se verifica que al menos en una de estas columnas se dispone de información que se remonta al año 2013, tal como lo establece el requerimiento del negocio.\n",
    "\n",
    "Estos análisis dimensionales permiten obtener un mayor entendimiento de la organización, el mercado en el que opera y el entorno en el que se comercializan los productos ofrecidos"
   ]
  },
  {
   "cell_type": "markdown",
   "metadata": {},
   "source": [
    "**¿Qué es una fila de cada fuente compartida?**\n",
    "A través de estos análisis, podemos llegar a la conclusión de que cada fila de la tabla \"movimientosCopia\" representa un tipo de movimiento por producto en la empresa, de acuerdo con su naturaleza. Estas filas permiten identificar las cantidades involucradas y los datos de trazabilidad de cada movimiento, ya sea relacionado con ventas, compras o ajustes destinados al control de los inventarios."
   ]
  },
  {
   "cell_type": "code",
   "execution_count": 129,
   "metadata": {},
   "outputs": [
    {
     "data": {
      "text/plain": [
       "[('TransaccionProductoID', 'int'),\n",
       " ('ProductoID', 'int'),\n",
       " ('TipoTransaccionID', 'int'),\n",
       " ('ClienteID', 'double'),\n",
       " ('InvoiceID', 'double'),\n",
       " ('ProveedorID', 'string'),\n",
       " ('OrdenDeCompraID', 'string'),\n",
       " ('FechaTransaccion', 'string'),\n",
       " ('Cantidad', 'double')]"
      ]
     },
     "execution_count": 129,
     "metadata": {},
     "output_type": "execute_result"
    }
   ],
   "source": [
    "datatypes = movimientos.dtypes\n",
    "datatypes"
   ]
  },
  {
   "cell_type": "code",
   "execution_count": 130,
   "metadata": {},
   "outputs": [
    {
     "name": "stdout",
     "output_type": "stream",
     "text": [
      "\u001b[1mDimensión de movimientosCopia: (204292, 9)\u001b[0m\n",
      "\u001b[1mLas dimensiones de los datos trabajados son:\u001b[0m\n",
      "Número de filas: 204292\n",
      "Número únicos: 173659\n",
      "Número de columnas: 9\n"
     ]
    }
   ],
   "source": [
    "rows = movimientos.count() \n",
    "unicos = movimientos.distinct().count()\n",
    "cols = len(movimientos.columns)\n",
    "print('\\033[1m'+f'Dimensión de movimientosCopia: {(rows,cols)}'+'\\033[0m')\n",
    "print('\\033[1m' +\"Las dimensiones de los datos trabajados son:\"+'\\033[0m')\n",
    "print(\"Número de filas: \" + str(rows)) \n",
    "print(\"Número únicos: \" + str(unicos))\n",
    "print(\"Número de columnas: \" + str(cols))"
   ]
  },
  {
   "cell_type": "code",
   "execution_count": 132,
   "metadata": {},
   "outputs": [
    {
     "data": {
      "text/plain": [
       "StructType(List(StructField(TransaccionProductoID,IntegerType,true),StructField(ProductoID,IntegerType,true),StructField(TipoTransaccionID,IntegerType,true),StructField(ClienteID,DoubleType,true),StructField(InvoiceID,DoubleType,true),StructField(ProveedorID,StringType,true),StructField(OrdenDeCompraID,StringType,true),StructField(FechaTransaccion,StringType,true),StructField(Cantidad,DoubleType,true)))"
      ]
     },
     "execution_count": 132,
     "metadata": {},
     "output_type": "execute_result"
    }
   ],
   "source": [
    "movimientos.schema"
   ]
  },
  {
   "cell_type": "code",
   "execution_count": 133,
   "metadata": {},
   "outputs": [
    {
     "data": {
      "text/plain": [
       "[('TransaccionProductoID', 'int'),\n",
       " ('ProductoID', 'int'),\n",
       " ('TipoTransaccionID', 'int'),\n",
       " ('ClienteID', 'double'),\n",
       " ('InvoiceID', 'double'),\n",
       " ('ProveedorID', 'string'),\n",
       " ('OrdenDeCompraID', 'string'),\n",
       " ('FechaTransaccion', 'string'),\n",
       " ('Cantidad', 'double')]"
      ]
     },
     "execution_count": 133,
     "metadata": {},
     "output_type": "execute_result"
    }
   ],
   "source": [
    "movimientos.dtypes"
   ]
  },
  {
   "cell_type": "code",
   "execution_count": 134,
   "metadata": {},
   "outputs": [
    {
     "name": "stdout",
     "output_type": "stream",
     "text": [
      "+---------------------+----------+-----------------+---------+---------+-----------+---------------+----------------+--------+\n",
      "|TransaccionProductoID|ProductoID|TipoTransaccionID|ClienteID|InvoiceID|ProveedorID|OrdenDeCompraID|FechaTransaccion|Cantidad|\n",
      "+---------------------+----------+-----------------+---------+---------+-----------+---------------+----------------+--------+\n",
      "|                    0|         0|                0|        0|        0|          0|              0|               0|       0|\n",
      "+---------------------+----------+-----------------+---------+---------+-----------+---------------+----------------+--------+\n",
      "\n"
     ]
    }
   ],
   "source": [
    "movimientos.select([count(when(isnan(c) | col(c).isNull() , c)).alias(c) for c in movimientos.columns]\n",
    "   ).show()"
   ]
  },
  {
   "cell_type": "markdown",
   "metadata": {},
   "source": [
    "**¿Cuantos datos nos compartieron para el proyecto?**\n",
    "En total tenemos 204.292 movimientos y tenemos en total 9 variables a revisar; de las cuales según la estructura compartida\n",
    "son 3 cadenas de texto y el resto numéricas. Es importante identificar si sobre las variables numéricas se realizarán operaciones o se deberán realizar transformaciones del tipo de datos parametrizado puesto que se puede observar que responden a identificadores de los movimientos o la individualización de proveedores y Clientes, esto debe ser consultado tambien al negocio y poder realizar los ajustes de datos necesarios."
   ]
  },
  {
   "cell_type": "markdown",
   "metadata": {},
   "source": [
    "# Revisión de reglas de negocio #\n",
    "**La cantidad máxima de productos movidos es 50 millones por transacción**"
   ]
  },
  {
   "cell_type": "code",
   "execution_count": 135,
   "metadata": {},
   "outputs": [
    {
     "name": "stdout",
     "output_type": "stream",
     "text": [
      "+-----------------+-------------+\n",
      "|TipoTransaccionID|max(Cantidad)|\n",
      "+-----------------+-------------+\n",
      "|               12|          4.0|\n",
      "|               10|         -1.0|\n",
      "|               11|      67368.0|\n",
      "+-----------------+-------------+\n",
      "\n"
     ]
    }
   ],
   "source": [
    "movimientos.groupby(\"TipoTransaccionID\").agg({'Cantidad': 'Max'}).show()"
   ]
  },
  {
   "cell_type": "code",
   "execution_count": 136,
   "metadata": {},
   "outputs": [
    {
     "name": "stdout",
     "output_type": "stream",
     "text": [
      "+---------------------+-------------+\n",
      "|TransaccionProductoID|max(Cantidad)|\n",
      "+---------------------+-------------+\n",
      "|               335504|      67368.0|\n",
      "|               335845|      67272.0|\n",
      "|               334872|      67200.0|\n",
      "|               334385|      66840.0|\n",
      "|               333714|      66744.0|\n",
      "+---------------------+-------------+\n",
      "only showing top 5 rows\n",
      "\n"
     ]
    }
   ],
   "source": [
    "movimientos.groupby(\"TransaccionProductoID\").agg({'Cantidad': 'Max'}).orderBy(\"max(Cantidad)\", ascending=False).show(5)"
   ]
  },
  {
   "cell_type": "markdown",
   "metadata": {},
   "source": [
    "El valor númerico cumple con la regla establecida, sin embargo, es imperativo validar las unidades de la información entregada o esclarecer con precisión la referencia de la regla proporcionada por el negocio. Es importante señalar que el valor máximo en la columna \"Cantidad,\" que es la única variable numérica disponible, asciende a 66744. No se dispone de columnas que representen valores monetarios, las cuales podrían ser las que cumplan con la regla de negocio establecida. Para garantizar la adecuación de los datos, es esencial llevar a cabo una validación con el negocio y, en su caso, realizar ajustes necesarios."
   ]
  },
  {
   "cell_type": "markdown",
   "metadata": {},
   "source": [
    "**Existen 236.668 movimientos de producto realizados desde 2013**"
   ]
  },
  {
   "cell_type": "code",
   "execution_count": 142,
   "metadata": {},
   "outputs": [
    {
     "data": {
      "text/plain": [
       "(204292, 173659, 173659)"
      ]
     },
     "execution_count": 142,
     "metadata": {},
     "output_type": "execute_result"
    }
   ],
   "source": [
    "movimientos.count(), movimientos.distinct().count(),movimientos.select(\"TransaccionProductoID\").distinct().count(),"
   ]
  },
  {
   "cell_type": "code",
   "execution_count": 143,
   "metadata": {},
   "outputs": [
    {
     "data": {
      "text/plain": [
       "30633"
      ]
     },
     "execution_count": 143,
     "metadata": {},
     "output_type": "execute_result"
    }
   ],
   "source": [
    "movimientos.count()-movimientos.distinct().count()"
   ]
  },
  {
   "cell_type": "markdown",
   "metadata": {},
   "source": [
    "Es evidente que la regla de negocio establecida no se cumple, ya que el número de registros no coincide con la cifra proporcionada por el negocio ni en términos del número total de movimientos entregados ni de los identificadores asociados. Se han identificado un total de 30,633 movimientos duplicados en todos sus campos. Esto resalta la necesidad de llevar a cabo investigaciones adicionales en colaboración con el negocio para identificar posibles datos faltantes en la base de datos compartida.\n",
    "\n",
    "Parece que la información no está completa y hay indicios de un problema de unicidad. Por lo tanto, resulta esencial comprender el proceso de generación de la tabla de \"Movimientos\" con el objetivo de obtener información adicional o realizar las correcciones necesarias en los procedimientos, si es necesario. Esto podría implicar la eliminación de los valores duplicados y, si es necesario, la complementación de la tabla."
   ]
  },
  {
   "cell_type": "markdown",
   "metadata": {},
   "source": [
    "**Los movimientos están relacionados con 228.265 clientes**"
   ]
  },
  {
   "cell_type": "code",
   "execution_count": 145,
   "metadata": {},
   "outputs": [
    {
     "data": {
      "text/plain": [
       "(197136, 664)"
      ]
     },
     "execution_count": 145,
     "metadata": {},
     "output_type": "execute_result"
    }
   ],
   "source": [
    "movimientos.where(movimientos.ClienteID != '0').count(),movimientos.select(\"ClienteID\").distinct().count()"
   ]
  },
  {
   "cell_type": "markdown",
   "metadata": {},
   "source": [
    "La cuenta de los identificadores de clientes no refleja consistencia en la regla de negocio entregada ni por identificadores únicos ni por filas con salida de producto según el ClienteID; es necesario como en el caso anterior validar con el negocio para el entendimiento de la regla suministrada y realizar los ajustes pertinentes."
   ]
  },
  {
   "cell_type": "code",
   "execution_count": 146,
   "metadata": {},
   "outputs": [
    {
     "name": "stdout",
     "output_type": "stream",
     "text": [
      "+---------------------+\n",
      "|min(FechaTransaccion)|\n",
      "+---------------------+\n",
      "| 2013-12-31 07:00:...|\n",
      "+---------------------+\n",
      "\n",
      "+---------------------+\n",
      "|max(FechaTransaccion)|\n",
      "+---------------------+\n",
      "|          Sep 30,2015|\n",
      "+---------------------+\n",
      "\n",
      "Número total de ordenes: 204292, número de ordenes con formato correcto: 140038\n"
     ]
    }
   ],
   "source": [
    "#El formato de fechas manejado es YYYY-MM-DD HH:MM:SS\n",
    "movimientos.agg({\"FechaTransaccion\": \"min\"}).show()\n",
    "movimientos.agg({\"FechaTransaccion\": \"max\"}).show()\n",
    "regex = \"[0-2]\\d{3}-(0[1-9]|1[0-2])-(0[1-9]|[1-2][0-9]|3[0-1])\"\n",
    "cumplenFormato = movimientos.filter(movimientos[\"FechaTransaccion\"].rlike(regex))\n",
    "print(\"Número total de ordenes: \"+str(movimientos.count())+\", número de ordenes con formato correcto: \"+str(cumplenFormato.count()))"
   ]
  },
  {
   "cell_type": "code",
   "execution_count": 147,
   "metadata": {},
   "outputs": [
    {
     "name": "stdout",
     "output_type": "stream",
     "text": [
      "+----------------+\n",
      "|FechaTransaccion|\n",
      "+----------------+\n",
      "|     Apr 25,2014|\n",
      "|     Dec 10,2015|\n",
      "|     Dec 04,2015|\n",
      "|     Dec 23,2015|\n",
      "|     Jul 27,2015|\n",
      "|     Sep 15,2014|\n",
      "|     Aug 04,2015|\n",
      "|     Feb 23,2015|\n",
      "|     May 01,2015|\n",
      "|     Jan 08,2016|\n",
      "|     Mar 26,2014|\n",
      "|     Jul 31,2015|\n",
      "|     Sep 02,2014|\n",
      "|     Mar 15,2016|\n",
      "|     May 28,2016|\n",
      "|     Sep 09,2015|\n",
      "|     May 23,2014|\n",
      "|     Aug 20,2014|\n",
      "|     Jan 21,2015|\n",
      "|     Dec 29,2015|\n",
      "+----------------+\n",
      "only showing top 20 rows\n",
      "\n"
     ]
    },
    {
     "data": {
      "text/plain": [
       "(64254, None, 0.31)"
      ]
     },
     "execution_count": 147,
     "metadata": {},
     "output_type": "execute_result"
    }
   ],
   "source": [
    "noCumplenFormato = movimientos.filter(~movimientos[\"FechaTransaccion\"].rlike(regex))\n",
    "noCumplenFormato.count(), noCumplenFormato.select(col(\"FechaTransaccion\")).show(),round(noCumplenFormato.count()/rows,2)"
   ]
  },
  {
   "cell_type": "markdown",
   "metadata": {},
   "source": [
    "Podemos concluir que aproximadamente el 31%, equivalente a 64,254 registros, no cumple con el formato de fecha especificado. Sin embargo, parece que estos valores que no se ajustan al formato deseado solo presentan variaciones menores en el formato. Por lo tanto, se procederá a realizar una transformación del formato de fecha con el objetivo de lograr una base de datos unificada que permita llevar a cabo análisis pertinentes.\n",
    "\n",
    "Además, se notificará al negocio sobre esta situación para que puedan llevar a cabo un análisis del proceso de generación de los datos y realizar los ajustes que consideren necesarios. Esto garantizará la consistencia y precisión de los datos para futuros análisis."
   ]
  },
  {
   "cell_type": "markdown",
   "metadata": {},
   "source": [
    "**Actualmente tenemos 13 proveedores**"
   ]
  },
  {
   "cell_type": "code",
   "execution_count": 148,
   "metadata": {},
   "outputs": [
    {
     "data": {
      "text/plain": [
       "(7110, 4)"
      ]
     },
     "execution_count": 148,
     "metadata": {},
     "output_type": "execute_result"
    }
   ],
   "source": [
    "movimientos.where(movimientos.ProveedorID !='').count(),movimientos.select(\"ProveedorID\").distinct().count()"
   ]
  },
  {
   "cell_type": "markdown",
   "metadata": {},
   "source": [
    "En la información entregada se encuentran 7.110 movimientos con identificador de proveedores y los valores únicos de los mismos son 4; se puede concluir que la regla de negocio no es cierta es necesario seguir indagando con los responsables para validar las inconsistencias encontradas. Aparentemente está incompleta la información de los movimientos."
   ]
  },
  {
   "cell_type": "markdown",
   "metadata": {},
   "source": [
    "**Conclusión general:**"
   ]
  },
  {
   "cell_type": "markdown",
   "metadata": {},
   "source": [
    "Las validaciones de las reglas de negocio indican la presencia de discrepancias en la información proporcionada, lo que requiere una validación exhaustiva. El objetivo es confirmar la integridad de la información transmitida, llevar a cabo ajustes para eliminar registros duplicados y comprender adecuadamente las unidades de la información suministrada. Además, es esencial investigar si la Regla 1 se refiere a valores económicos, ya que la afirmación contenida en dicha regla no puede ser respaldada con los datos disponibles en la tabla \"movimientosCopia\". Esta investigación ayudará a aclarar la naturaleza de la regla y su relación con la información contenida en la tabla."
   ]
  },
  {
   "cell_type": "code",
   "execution_count": 149,
   "metadata": {},
   "outputs": [
    {
     "name": "stdout",
     "output_type": "stream",
     "text": [
      "+---------------------+----------+-----------------+---------+---------+-----------+---------------+----------------+--------+\n",
      "|TransaccionProductoID|ProductoID|TipoTransaccionID|ClienteID|InvoiceID|ProveedorID|OrdenDeCompraID|FechaTransaccion|Cantidad|\n",
      "+---------------------+----------+-----------------+---------+---------+-----------+---------------+----------------+--------+\n",
      "|               118903|       217|               10|    476.0|  24904.0|           |               |     Apr 25,2014|   -40.0|\n",
      "|               286890|       135|               10|     33.0|  60117.0|           |               |     Dec 10,2015|    -7.0|\n",
      "|               285233|       111|               10|    180.0|  59768.0|           |               |     Dec 04,2015|    -2.0|\n",
      "|               290145|       213|               10|     33.0|  60795.0|           |               |     Dec 23,2015|    -3.0|\n",
      "|               247492|        90|               10|     55.0|  51851.0|           |               |     Jul 27,2015|   -24.0|\n",
      "|               157714|       212|               10|    146.0|  33043.0|           |               |     Sep 15,2014|   -20.0|\n",
      "|               250024|       218|               10|    585.0|  52377.0|           |               |     Aug 04,2015|   -60.0|\n",
      "|               200801|       120|               10|     30.0|  42049.0|           |               |     Feb 23,2015|    -3.0|\n",
      "|               221525|       129|               10|    596.0|  46388.0|           |               |     May 01,2015|    -7.0|\n",
      "|               295331|       197|               10|   1037.0|  61886.0|           |               |     Jan 08,2016|  -216.0|\n",
      "|               110972|       162|               10|    137.0|  23228.0|           |               |     Mar 26,2014|   -20.0|\n",
      "|               249110|       209|               10|    552.0|  52188.0|           |               |     Jul 31,2015|   -25.0|\n",
      "|               154624|       149|               10|    519.0|  32401.0|           |               |     Sep 02,2014|   -36.0|\n",
      "|               313072|        49|               10|    141.0|  65643.0|           |               |     Mar 15,2016|    -8.0|\n",
      "|               335449|       150|               10|    150.0|  70341.0|           |               |     May 28,2016|    -4.0|\n",
      "|               259859|       146|               10|     43.0|  54454.0|           |               |     Sep 09,2015|   -96.0|\n",
      "|               126490|       189|               10|     71.0|  26484.0|           |               |     May 23,2014|  -260.0|\n",
      "|               151545|        90|               10|     84.0|  31758.0|           |               |     Aug 20,2014|   -24.0|\n",
      "|               191958|        73|               10|    119.0|  40202.0|           |               |     Jan 21,2015|   -10.0|\n",
      "|               291834|       131|               10|   1006.0|  61153.0|           |               |     Dec 29,2015|    -6.0|\n",
      "+---------------------+----------+-----------------+---------+---------+-----------+---------------+----------------+--------+\n",
      "only showing top 20 rows\n",
      "\n"
     ]
    }
   ],
   "source": [
    "movimientos.filter((movimientos.ClienteID != '0') &\n",
    "                       (movimientos.ProveedorID =='')).show()"
   ]
  },
  {
   "cell_type": "markdown",
   "metadata": {},
   "source": [
    "## Análisis descriptivo\n"
   ]
  },
  {
   "cell_type": "code",
   "execution_count": 152,
   "metadata": {},
   "outputs": [
    {
     "name": "stdout",
     "output_type": "stream",
     "text": [
      "+-------+-----------------+--------------------+\n",
      "|summary|         Cantidad|    FechaTransaccion|\n",
      "+-------+-----------------+--------------------+\n",
      "|  count|           204292|              204292|\n",
      "|   mean|719.4997650421946|                null|\n",
      "| stddev| 4729.36659747762|                null|\n",
      "|    min|           -360.0|2013-12-31 07:00:...|\n",
      "|    25%|            -60.0|                null|\n",
      "|    50%|             -9.0|                null|\n",
      "|    75%|             -5.0|                null|\n",
      "|    max|          67368.0|         Sep 30,2015|\n",
      "+-------+-----------------+--------------------+\n",
      "\n"
     ]
    }
   ],
   "source": [
    "movimientos.select(\"Cantidad\",\"FechaTransaccion\").summary().show()"
   ]
  },
  {
   "cell_type": "code",
   "execution_count": 153,
   "metadata": {},
   "outputs": [
    {
     "name": "stdout",
     "output_type": "stream",
     "text": [
      "+-------+---------------------+------------------+-------------------+------------------+-----------------+-----------------+------------------+--------------------+-----------------+\n",
      "|summary|TransaccionProductoID|        ProductoID|  TipoTransaccionID|         ClienteID|        InvoiceID|      ProveedorID|   OrdenDeCompraID|    FechaTransaccion|         Cantidad|\n",
      "+-------+---------------------+------------------+-------------------+------------------+-----------------+-----------------+------------------+--------------------+-----------------+\n",
      "|  count|               204292|            204292|             204292|            204292|           204292|           204292|            204292|              204292|           204292|\n",
      "|   mean|   212458.04047637695|110.70090850351458| 10.035253460732676| 517.3252941867523|42957.26929590978|4.951898734177215|1345.9973277074544|                null|719.4997650421946|\n",
      "| stddev|    71352.37579752573| 63.49014746219581|0.18563716955046372|353.50136995999276| 16826.9772221931|1.406311225432683|420.37740964792835|                null| 4729.36659747762|\n",
      "|    min|                89146|                 1|                 10|               0.0|              0.0|                 |                  |2013-12-31 07:00:...|           -360.0|\n",
      "|    25%|               150639|                56|                 10|             145.0|          30120.0|              4.0|             986.0|                null|            -60.0|\n",
      "|    50%|               212323|               110|                 10|             511.0|          43546.0|              4.0|            1347.0|                null|             -9.0|\n",
      "|    75%|               274216|               166|                 10|             877.0|          56983.0|              7.0|            1710.0|                null|             -5.0|\n",
      "|    max|               336251|               227|                 12|            1061.0|          70510.0|              7.0|             999.0|         Sep 30,2015|          67368.0|\n",
      "+-------+---------------------+------------------+-------------------+------------------+-----------------+-----------------+------------------+--------------------+-----------------+\n",
      "\n"
     ]
    }
   ],
   "source": [
    "movimientos.summary().show()"
   ]
  },
  {
   "cell_type": "markdown",
   "metadata": {},
   "source": [
    "Llevamos a cabo un análisis de los valores estadísticos por columna con el propósito de identificar posibles problemas en la calidad de los datos. Realizamos un análisis individual de la columna \"Cantidad,\" ya que esta será el foco del análisis en la creación del Tablero de Control, y no se observan inconsistencias aparentes en esta columna.\n",
    "\n",
    "En el análisis general, no se identifican inconsistencias evidentes en los datos. Sin embargo, es imperativo validar con el negocio si los valores de \"InvoiceID\" y \"OrdenDeCompraID\" corresponden a consecutivos para el período, y si los \"ProductoID,\" \"ProveedorID,\" y \"ClienteID\" se refieren a ítems reales o si existe algún problema de calidad en estos datos. Con la información proporcionada, no es posible llevar a cabo una validación completa de calidad mediante estas estadísticas. Continuaremos con análisis adicionales que nos permitan realizar un diagnóstico inicial más exhaustivo."
   ]
  },
  {
   "cell_type": "code",
   "execution_count": 157,
   "metadata": {},
   "outputs": [
    {
     "data": {
      "image/png": "[encoded data removed]",
      "text/plain": [
       "<Figure size 720x576 with 4 Axes>"
      ]
     },
     "metadata": {
      "needs_background": "light"
     },
     "output_type": "display_data"
    }
   ],
   "source": [
    "uno=np.array(movimientos.select('Cantidad').where(movimientos.TipoTransaccionID == 10).collect())\n",
    "len(uno)\n",
    "dos=np.array(movimientos.select('Cantidad').where(movimientos.TipoTransaccionID == 11).collect())\n",
    "tres=np.array(movimientos.select('Cantidad').where(movimientos.TipoTransaccionID == 12).collect())\n",
    "\n",
    "\n",
    "figure, axis = plt.subplots(2, 2,figsize=(10, 8))\n",
    "  \n",
    "# For one Function\n",
    "axis[0, 0].boxplot(uno)\n",
    "axis[0, 0].set_title(\"Tipo transaccion 10\")\n",
    "  \n",
    "# For two Function\n",
    "axis[0, 1].boxplot(dos)\n",
    "axis[0, 1].set_title(\"Tipo transaccion 11\")\n",
    "  \n",
    "# For tre Function\n",
    "axis[1, 0].boxplot(tres)\n",
    "axis[1, 0].set_title(\"Tipo transaccion 12\")\n",
    "\n",
    "# For tre Function\n",
    "axis[1, 1].boxplot(np.array(movimientos.select('Cantidad').collect()))\n",
    "axis[1, 1].set_title(\"Cantidad de productos\")\n",
    "  \n",
    "# Combine all the operations and display\n",
    "plt.show()"
   ]
  },
  {
   "cell_type": "markdown",
   "metadata": {},
   "source": [
    "Hemos llevado a cabo un análisis a través de un diagrama de caja con el propósito de evaluar la validez de los movimientos de productos, tanto desde la perspectiva de los diferentes \"Tipos de Transacción\" como desde una visión general. Este análisis se ha realizado con el objetivo de confirmar las hipótesis planteadas previamente.\n",
    "\n",
    "No obstante, al examinar los datos en su totalidad, hemos notado que el diagrama de caja no arroja una conclusión definitiva en ningún sentido. Esto se debe a la presencia de valores tanto positivos como negativos que distorsionan la visualización de la información proporcionada. Es por esta razón que hemos decidido llevar a cabo un enfoque de análisis alternativo.\n",
    "\n",
    "Durante este proceso, hemos identificado posibles datos atípicos en este campo. Por lo tanto, consideramos de vital importancia coordinar una sesión de colaboración con el equipo de negocio para investigar la posibilidad de que los movimientos de compra y venta de productos puedan o no presentar estos comportamientos en los valores que se encuentran por fuera del rango intercuartílico (entre el 2º y 4º cuartil) de la información proporcionada. Esto nos permitirá obtener un entendimiento más profundo de la naturaleza de estos datos atípicos y su influencia en nuestro análisis."
   ]
  },
  {
   "cell_type": "code",
   "execution_count": 158,
   "metadata": {},
   "outputs": [
    {
     "name": "stdout",
     "output_type": "stream",
     "text": [
      "+---------------------+----------+-----------------+---------+---------+-----------+---------------+----------------+--------+\n",
      "|TransaccionProductoID|ProductoID|TipoTransaccionID|ClienteID|InvoiceID|ProveedorID|OrdenDeCompraID|FechaTransaccion|Cantidad|\n",
      "+---------------------+----------+-----------------+---------+---------+-----------+---------------+----------------+--------+\n",
      "|               118903|       217|               10|    476.0|  24904.0|           |               |     Apr 25,2014|   -40.0|\n",
      "|               286890|       135|               10|     33.0|  60117.0|           |               |     Dec 10,2015|    -7.0|\n",
      "|               285233|       111|               10|    180.0|  59768.0|           |               |     Dec 04,2015|    -2.0|\n",
      "|               290145|       213|               10|     33.0|  60795.0|           |               |     Dec 23,2015|    -3.0|\n",
      "|               247492|        90|               10|     55.0|  51851.0|           |               |     Jul 27,2015|   -24.0|\n",
      "|               157714|       212|               10|    146.0|  33043.0|           |               |     Sep 15,2014|   -20.0|\n",
      "|               250024|       218|               10|    585.0|  52377.0|           |               |     Aug 04,2015|   -60.0|\n",
      "|               200801|       120|               10|     30.0|  42049.0|           |               |     Feb 23,2015|    -3.0|\n",
      "|               221525|       129|               10|    596.0|  46388.0|           |               |     May 01,2015|    -7.0|\n",
      "|               110972|       162|               10|    137.0|  23228.0|           |               |     Mar 26,2014|   -20.0|\n",
      "|               249110|       209|               10|    552.0|  52188.0|           |               |     Jul 31,2015|   -25.0|\n",
      "|               154624|       149|               10|    519.0|  32401.0|           |               |     Sep 02,2014|   -36.0|\n",
      "|               313072|        49|               10|    141.0|  65643.0|           |               |     Mar 15,2016|    -8.0|\n",
      "|               335449|       150|               10|    150.0|  70341.0|           |               |     May 28,2016|    -4.0|\n",
      "|               259859|       146|               10|     43.0|  54454.0|           |               |     Sep 09,2015|   -96.0|\n",
      "|               151545|        90|               10|     84.0|  31758.0|           |               |     Aug 20,2014|   -24.0|\n",
      "|               191958|        73|               10|    119.0|  40202.0|           |               |     Jan 21,2015|   -10.0|\n",
      "|               291834|       131|               10|   1006.0|  61153.0|           |               |     Dec 29,2015|    -6.0|\n",
      "|               283403|        68|               10|    458.0|  59379.0|           |               |     Nov 27,2015|    -6.0|\n",
      "|               184461|       214|               10|    813.0|  38631.0|           |               |     Dec 24,2014|    -4.0|\n",
      "+---------------------+----------+-----------------+---------+---------+-----------+---------------+----------------+--------+\n",
      "only showing top 20 rows\n",
      "\n"
     ]
    }
   ],
   "source": [
    "movimientos.filter((movimientos.TipoTransaccionID == \"10\" ) &\n",
    "                       (movimientos.Cantidad >= -100)).show()"
   ]
  },
  {
   "cell_type": "code",
   "execution_count": 159,
   "metadata": {},
   "outputs": [
    {
     "name": "stdout",
     "output_type": "stream",
     "text": [
      "+---------------------+----------+-----------------+---------+---------+-----------+---------------+----------------+--------+\n",
      "|TransaccionProductoID|ProductoID|TipoTransaccionID|ClienteID|InvoiceID|ProveedorID|OrdenDeCompraID|FechaTransaccion|Cantidad|\n",
      "+---------------------+----------+-----------------+---------+---------+-----------+---------------+----------------+--------+\n",
      "|               329831|       193|               11|      0.0|      0.0|        7.0|         2040.0|     May 11,2016| 65520.0|\n",
      "|               332332|       193|               11|      0.0|      0.0|        7.0|         2053.0|     May 19,2016| 65904.0|\n",
      "|               314642|       193|               11|      0.0|      0.0|        7.0|         1956.0|     Mar 22,2016| 62688.0|\n",
      "|               334872|       193|               11|      0.0|      0.0|        7.0|         2067.0|     May 27,2016| 67200.0|\n",
      "|               301429|       193|               11|      0.0|      0.0|        7.0|         1872.0|     Feb 01,2016| 60480.0|\n",
      "|               313742|       193|               11|      0.0|      0.0|        7.0|         1950.0|     Mar 18,2016| 62472.0|\n",
      "|               329265|       193|               11|      0.0|      0.0|        7.0|         2034.0|     May 09,2016| 65496.0|\n",
      "|               313465|       193|               11|      0.0|      0.0|        7.0|         1948.0|     Mar 17,2016| 62352.0|\n",
      "|               303652|       193|               11|      0.0|      0.0|        7.0|         1890.0|     Feb 10,2016| 61008.0|\n",
      "|               322752|       193|               11|      0.0|      0.0|        7.0|         1999.0|     Apr 18,2016| 63768.0|\n",
      "|               314139|       193|               11|      0.0|      0.0|        7.0|         1952.0|     Mar 21,2016| 62424.0|\n",
      "|               323671|       193|               11|      0.0|      0.0|        7.0|         2005.0|     Apr 20,2016| 63720.0|\n",
      "|               335845|       193|               11|      0.0|      0.0|        7.0|         2072.0|     May 31,2016| 67272.0|\n",
      "|               310930|       193|               11|      0.0|      0.0|        7.0|         1931.0|     Mar 07,2016| 62304.0|\n",
      "|               333459|       193|               11|      0.0|      0.0|        7.0|         2057.0|     May 23,2016| 66480.0|\n",
      "|               316004|       193|               11|      0.0|      0.0|        7.0|         1962.0|     Mar 25,2016| 62880.0|\n",
      "|               326265|       193|               11|      0.0|      0.0|        7.0|         2021.0|     Apr 29,2016| 64680.0|\n",
      "|               303412|       193|               11|      0.0|      0.0|        7.0|         1888.0|     Feb 09,2016| 60984.0|\n",
      "|               316461|       193|               11|      0.0|      0.0|        7.0|         1964.0|     Mar 28,2016| 62880.0|\n",
      "|               321173|       193|               11|      0.0|      0.0|        7.0|         1993.0|     Apr 13,2016| 63816.0|\n",
      "+---------------------+----------+-----------------+---------+---------+-----------+---------------+----------------+--------+\n",
      "only showing top 20 rows\n",
      "\n"
     ]
    }
   ],
   "source": [
    "movimientos.filter((movimientos.TipoTransaccionID == \"11\" ) &\n",
    "                       (movimientos.Cantidad >= 60000)).show()"
   ]
  },
  {
   "cell_type": "code",
   "execution_count": 160,
   "metadata": {},
   "outputs": [
    {
     "name": "stdout",
     "output_type": "stream",
     "text": [
      "+-----------------+-------------+\n",
      "|TipoTransaccionID|sum(Cantidad)|\n",
      "+-----------------+-------------+\n",
      "|               12|        -24.0|\n",
      "|               10|   -7714426.0|\n",
      "|               11| 1.54702496E8|\n",
      "+-----------------+-------------+\n",
      "\n",
      "+-----------------+------+\n",
      "|TipoTransaccionID| count|\n",
      "+-----------------+------+\n",
      "|               12|    46|\n",
      "|               10|197136|\n",
      "|               11|  7110|\n",
      "+-----------------+------+\n",
      "\n"
     ]
    },
    {
     "data": {
      "image/png": "[encoded data removed]",
      "text/plain": [
       "<Figure size 432x288 with 1 Axes>"
      ]
     },
     "metadata": {},
     "output_type": "display_data"
    },
    {
     "name": "stdout",
     "output_type": "stream",
     "text": [
      "0.9649717071642551\n"
     ]
    }
   ],
   "source": [
    "movimientos.groupBy(\"TipoTransaccionID\").sum(\"Cantidad\").show()\n",
    "movimientos.groupBy(\"TipoTransaccionID\").count().show()\n",
    "hi=np.array(movimientos.groupBy(\"TipoTransaccionID\").count().collect())\n",
    "c = [hi[i][0] for i in range(len(hi))]\n",
    "d= [hi[i][1] for i in range(len(hi))]\n",
    "myexplode = [0.2, 0, 0]\n",
    "plt.pie(d, labels = c, explode = myexplode, shadow = True)\n",
    "plt.legend(title = \"Cantidades de transacciones:\")\n",
    "plt.show() \n",
    "print(197136/rows)"
   ]
  },
  {
   "cell_type": "markdown",
   "metadata": {},
   "source": [
    "Hemos llevado a cabo un análisis de las cantidades de productos \"vendidos\" y \"comprados\", lo que nos ha permitido validar la información proporcionada por la organización. Según las indicaciones de la organización, se establece que las compras se efectúan al por mayor, mientras que las ventas se realizan al por menor. Al examinar las cantidades de transacciones \"vendidas,\" observamos que estas representan aproximadamente el 96% de la información suministrada. Sin embargo, es importante destacar que la cantidad total de ventas se sitúa considerablemente por debajo de la cantidad de productos adquiridos.\n",
    "\n",
    "Esta es una interpretación inicial y general de los datos que, no obstante, deberá ser validada en análisis posteriores para obtener una comprensión más precisa de la relación entre las compras al por mayor y las ventas al por menor, así como para confirmar si las cifras coinciden con la estrategia comercial de la organización."
   ]
  },
  {
   "cell_type": "code",
   "execution_count": 161,
   "metadata": {},
   "outputs": [
    {
     "name": "stdout",
     "output_type": "stream",
     "text": [
      "+-----------+------+\n",
      "|ProveedorID| count|\n",
      "+-----------+------+\n",
      "|           |197182|\n",
      "|        4.0|  4832|\n",
      "|        7.0|  2267|\n",
      "|        1.0|    11|\n",
      "+-----------+------+\n",
      "\n"
     ]
    }
   ],
   "source": [
    "movimientos.groupby(\"ProveedorID\").count().orderBy(\"count\", ascending=False).show(5)"
   ]
  },
  {
   "cell_type": "code",
   "execution_count": 162,
   "metadata": {},
   "outputs": [
    {
     "name": "stdout",
     "output_type": "stream",
     "text": [
      "+---------------------+----------+-----------------+---------+---------+-----------+---------------+----------------+--------+\n",
      "|TransaccionProductoID|ProductoID|TipoTransaccionID|ClienteID|InvoiceID|ProveedorID|OrdenDeCompraID|FechaTransaccion|Cantidad|\n",
      "+---------------------+----------+-----------------+---------+---------+-----------+---------------+----------------+--------+\n",
      "|               197005|        80|               11|      0.0|      0.0|        4.0|         1272.0|     Feb 10,2015| 11148.0|\n",
      "|               111093|        95|               11|      0.0|      0.0|        4.0|          745.0|     Mar 27,2014|  7764.0|\n",
      "|               329831|       193|               11|      0.0|      0.0|        7.0|         2040.0|     May 11,2016| 65520.0|\n",
      "+---------------------+----------+-----------------+---------+---------+-----------+---------------+----------------+--------+\n",
      "only showing top 3 rows\n",
      "\n"
     ]
    }
   ],
   "source": [
    "movimientos.filter(movimientos.TipoTransaccionID == \"11\" ).show(3)"
   ]
  },
  {
   "cell_type": "code",
   "execution_count": 163,
   "metadata": {},
   "outputs": [
    {
     "name": "stdout",
     "output_type": "stream",
     "text": [
      "+---------------------+----------+-----------------+---------+---------+-----------+---------------+----------------+--------+\n",
      "|TransaccionProductoID|ProductoID|TipoTransaccionID|ClienteID|InvoiceID|ProveedorID|OrdenDeCompraID|FechaTransaccion|Cantidad|\n",
      "+---------------------+----------+-----------------+---------+---------+-----------+---------------+----------------+--------+\n",
      "|               118903|       217|               10|    476.0|  24904.0|           |               |     Apr 25,2014|   -40.0|\n",
      "|               286890|       135|               10|     33.0|  60117.0|           |               |     Dec 10,2015|    -7.0|\n",
      "|               285233|       111|               10|    180.0|  59768.0|           |               |     Dec 04,2015|    -2.0|\n",
      "+---------------------+----------+-----------------+---------+---------+-----------+---------------+----------------+--------+\n",
      "only showing top 3 rows\n",
      "\n"
     ]
    }
   ],
   "source": [
    "movimientos.filter(movimientos.TipoTransaccionID == \"10\" ).show(3)"
   ]
  },
  {
   "cell_type": "markdown",
   "metadata": {},
   "source": [
    "Se validan las transacciones por tipo y se observa que cuando se encuentran las \"ventas\" el ClienteID trae información pero las columnas ProveedorID y OrdenDeCompraID están \"vacíos\"; mientas cuando se encuentra información de \"compras\" de productos el ClienteID e InvoiceID registra el valor **\"cero\"** es necesario consultar al negocio y realizar los ajustes puesto que puede generar errores en los análisis estas diferencias en la información entregada."
   ]
  },
  {
   "cell_type": "markdown",
   "metadata": {
    "id": "-axExLnhPn3g"
   },
   "source": [
    "## Análisis de calidad de datos"
   ]
  },
  {
   "cell_type": "markdown",
   "metadata": {
    "id": "-sUZP8wjPn3g"
   },
   "source": [
    "### Unicidad y validez\n",
    "La revisión de la unicidad se llevó a cabo al analizar la segunda regla de negocio, y la validez se evaluó en el perfilamiento general, así como en la verificación de las reglas de negocio en su totalidad. Aparentemente, se han identificado problemas de unicidad en los movimientos entregados, ya que se han encontrado entidades duplicadas en los datos.\n",
    "\n",
    "A partir de estos hallazgos, se deduce que la información no se encuentra completa y que existen problemas relacionados con la validez de algunas columnas, como las fechas y posiblemente en los ID de los proveedores. Estos problemas deben ser abordados y resueltos en colaboración con el negocio para garantizar la integridad y la calidad de los datos."
   ]
  },
  {
   "cell_type": "markdown",
   "metadata": {},
   "source": [
    "### Completitud y validez"
   ]
  },
  {
   "cell_type": "code",
   "execution_count": 165,
   "metadata": {},
   "outputs": [],
   "source": [
    "def contar_vacios(df):\n",
    "    resultados = []\n",
    "    for c in df.columns:\n",
    "        vacios = df.filter(df[c].isNull()).count()+df.where(df[c] =='').count()\n",
    "        if vacios!=0:\n",
    "            print('número de vacíos para columna '+c+': '+str( vacios ))\n",
    "            resultados.append(vacios)\n",
    "    return resultados"
   ]
  },
  {
   "cell_type": "code",
   "execution_count": 74,
   "metadata": {},
   "outputs": [
    {
     "name": "stdout",
     "output_type": "stream",
     "text": [
      "detalles de ordenes: \n",
      "número de vacíos para columna ProveedorID: 197182\n",
      "número de vacíos para columna OrdenDeCompraID: 197182\n"
     ]
    }
   ],
   "source": [
    "print('detalles de ordenes: ')\n",
    "columnas_vacias_ordenes = contar_vacios(movimientos)"
   ]
  },
  {
   "cell_type": "markdown",
   "metadata": {},
   "source": [
    "Se ha identificado que las columnas que presentan valores vacíos o diferentes de cero son \"ProveedorID\" y \"OrdenDeCompraID,\" con un total de 197,182 registros. Estos registros corresponden a transacciones de tipo \"10,\" lo que indica ventas realizadas por la compañía.\n",
    "\n",
    "En relación a la cardinalidad, no se han realizado pruebas en esta etapa, dado que estamos trabajando únicamente con una tabla. Aún no se ha establecido una relación con otras tablas que requiera validación en este contexto."
   ]
  },
  {
   "cell_type": "markdown",
   "metadata": {},
   "source": [
    "### Consistencia\n"
   ]
  },
  {
   "cell_type": "code",
   "execution_count": 166,
   "metadata": {},
   "outputs": [
    {
     "name": "stderr",
     "output_type": "stream",
     "text": [
      "Summarize dataset:  60%|██████    | 12/20 [00:03<00:01,  6.37it/s, Calculate kendall correlation]         C:\\Users\\estudiante\\anaconda3\\envs\\Tutoriales\\lib\\site-packages\\scipy\\stats\\stats.py:4812: RuntimeWarning: overflow encountered in longlong_scalars\n",
      "  (2 * xtie * ytie) / m + x0 * y0 / (9 * m * (size - 2)))\n",
      "Summarize dataset: 100%|██████████| 47/47 [00:15<00:00,  3.00it/s, Completed]                                           \n",
      "Generate report structure: 100%|██████████| 1/1 [00:03<00:00,  3.08s/it]\n",
      "Render HTML: 100%|██████████| 1/1 [00:01<00:00,  1.20s/it]\n",
      "Export report to file: 100%|██████████| 1/1 [00:00<00:00, 76.88it/s]\n"
     ]
    }
   ],
   "source": [
    "reporte = ProfileReport(movimientos.toPandas())\n",
    "reporte.to_file(PATH+\"reporte_prefilamiento.html\")"
   ]
  },
  {
   "cell_type": "code",
   "execution_count": 167,
   "metadata": {},
   "outputs": [
    {
     "name": "stdout",
     "output_type": "stream",
     "text": [
      "+-------------------+------+\n",
      "|Duplicate_indicator| count|\n",
      "+-------------------+------+\n",
      "|                  0|143026|\n",
      "|                  1| 61266|\n",
      "+-------------------+------+\n",
      "\n"
     ]
    }
   ],
   "source": [
    "movimientos.join(\n",
    "    movimientos.groupBy(movimientos.columns).agg((f.count(\"*\")>1).cast(\"int\").alias(\"Duplicate_indicator\")),\n",
    "    on=movimientos.columns,\n",
    "    how=\"inner\"\n",
    ").groupBy(\"Duplicate_indicator\").count().orderBy(\"count\", ascending=False).show(5)\n"
   ]
  },
  {
   "cell_type": "code",
   "execution_count": 168,
   "metadata": {},
   "outputs": [
    {
     "name": "stdout",
     "output_type": "stream",
     "text": [
      "+---------------------+-----+\n",
      "|TransaccionProductoID|count|\n",
      "+---------------------+-----+\n",
      "|               197953|    2|\n",
      "|               101055|    2|\n",
      "|               309597|    2|\n",
      "|               209326|    2|\n",
      "|               213516|    2|\n",
      "|               262183|    2|\n",
      "|               317340|    2|\n",
      "|               323250|    2|\n",
      "|               105665|    2|\n",
      "|               246097|    2|\n",
      "|               282680|    2|\n",
      "|               200379|    2|\n",
      "|               225359|    2|\n",
      "|               141299|    2|\n",
      "|               250485|    2|\n",
      "|               265863|    2|\n",
      "|               251316|    2|\n",
      "|               231502|    2|\n",
      "|               160009|    2|\n",
      "|               138920|    2|\n",
      "+---------------------+-----+\n",
      "only showing top 20 rows\n",
      "\n"
     ]
    }
   ],
   "source": [
    "movimientos.groupby('TransaccionProductoID').count().where('count > 1').sort('count', ascending=False).show()"
   ]
  },
  {
   "cell_type": "code",
   "execution_count": 169,
   "metadata": {},
   "outputs": [
    {
     "name": "stdout",
     "output_type": "stream",
     "text": [
      "+---------------------+----------+-----------------+---------+---------+-----------+---------------+--------------------+--------+\n",
      "|TransaccionProductoID|ProductoID|TipoTransaccionID|ClienteID|InvoiceID|ProveedorID|OrdenDeCompraID|    FechaTransaccion|Cantidad|\n",
      "+---------------------+----------+-----------------+---------+---------+-----------+---------------+--------------------+--------+\n",
      "|                89196|       166|               10|    832.0|  18686.0|           |               |2013-12-31 12:00:...|   -30.0|\n",
      "|                89196|       166|               10|    832.0|  18686.0|           |               |2013-12-31 12:00:...|   -30.0|\n",
      "+---------------------+----------+-----------------+---------+---------+-----------+---------------+--------------------+--------+\n",
      "\n"
     ]
    }
   ],
   "source": [
    "movimientos.where(movimientos.TransaccionProductoID ==89196).show()"
   ]
  },
  {
   "cell_type": "markdown",
   "metadata": {},
   "source": [
    "### Sección General del Reporte:\n",
    "\n",
    "En el informe, se analizaron 9 variables y 204,292 registros, que representan transacciones de productos. De estas variables, 4 son categóricas y 5 numéricas. Es relevante señalar que la herramienta de análisis no validó correctamente las variables, ya que sabemos que hay una variable de tipo datetime que debe ser transformada, y los valores \"numéricos\" en su mayoría corresponden a identificadores relacionados con la naturaleza de las transacciones de productos.\n",
    "\n",
    "A pesar de que el informe indica que no hay datos aparentemente vacíos, se ha identificado previamente que existen valores nulos en las columnas \"OrdenDeCompraID\" y \"ProveedorID\" en filas que no se están identificando como tales. Esta anomalía debe ser abordada y corregida en etapas posteriores de la consultoría.\n",
    "\n",
    "El archivo de datos ocupa 11.7 MB en memoria. Se han encontrado 30,633 registros duplicados, lo cual también se ha confirmado manualmente. Es esencial validar esta duplicación, ya que se espera que el ID de cada transacción sea único.\n",
    "\n",
    "### Sección de Variables del Reporte:\n",
    "\n",
    "El informe proporciona estadísticas descriptivas, como la media, el mínimo y el máximo, para cada variable, además de histogramas de distribución.\n",
    "\n",
    "Ninguna de las variables presenta valores nulos. Sin embargo, al analizar individualmente las variables:\n",
    "\n",
    "\"TransaccionProductoID\" muestra un 85% de valores distintos, lo cual concuerda con el análisis previo de duplicados. Los ID no revelan patrones particulares de interés o errores de calidad.\n",
    "\n",
    "\"ProductoID\" presenta menos del 1% de valores distintos, lo que sugiere una alta rotación de productos. Para comprender mejor este comportamiento, es necesario analizar las cantidades de movimientos relacionadas y verificar si corresponden a productos con movimientos recurrentes o a aquellos con poco movimiento.\n",
    "\n",
    "\"TipoTransaccionID\" no presenta novedades y refleja las tres tipologías identificadas. Se observa un alto volumen de transacciones de tipo \"10,\" que se supone corresponden a las ventas de la compañía.\n",
    "\n",
    "\"ClienteID\" tiene un número reducido de clientes, con solo 664 ID. Los ID no siguen un patrón lineal y muestran saltos en la numeración. Es necesario explorar la asignación de estos ID en colaboración con el negocio. Además, se observa una recurrencia de compras, que representa aproximadamente el 0.3% de las transacciones, y predomina el valor \"0,\" lo cual se alinea con el comportamiento esperado para compras.\n",
    "\n",
    "\"InvoiceID\" no revela problemas evidentes y coincide con los análisis previos.\n",
    "\n",
    "\"ProveedorID\" muestra únicamente 4 valores, lo cual podría indicar un error en relación con la regla de negocio y la comprensión del negocio. Además, se observa un valor nulo, que corresponde a las \"ventas\" de productos y constituye la mayor cantidad de registros entregados.\n",
    "\n",
    "\"OrdenDeCompraID\" no presenta inconsistencias y coincide con los análisis previos.\n",
    "\n",
    "\"FechaTransaccion\" refleja problemas en el tipo de dato de la tabla. Esto ha dificultado la generación de estadísticas que permitan confirmar o refutar hipótesis. Se requiere una transformación de esta columna para explorar tendencias y abordar las inquietudes planteadas por el negocio acerca de los rangos de fechas.\n",
    "\n",
    "\"Cantidad\" es la variable de interés para el negocio. El informe muestra valores tanto negativos como positivos. Para realizar análisis adecuados, es esencial diferenciar estas condiciones. La información del informe dificulta la visualización de los movimientos debido al alto volumen de transacciones negativas, que corresponden a las salidas de productos de la compañía.\n",
    "\n",
    "### Sección de Interacciones y Correlaciones:\n",
    "\n",
    "Se han observado correlaciones de Spearman iguales a 1 entre columnas, como \"InvoiceID\" y \"TransaccionProductoID.\" Esto podría deberse a que ambas columnas contienen números consecutivos con la misma longitud. No obstante, se requieren visualizaciones adicionales para confirmar que no se trata de \"columnas\" duplicadas. Los análisis anteriores indican que estas columnas no representan información repetida, pero es necesario validar esta conclusión."
   ]
  },
  {
   "cell_type": "code",
   "execution_count": 171,
   "metadata": {},
   "outputs": [
    {
     "name": "stdout",
     "output_type": "stream",
     "text": [
      "+--------+------+----+---+\n",
      "|Positivo|    10|  11| 12|\n",
      "+--------+------+----+---+\n",
      "|      No|197136|null| 22|\n",
      "|      Si|  null|7110| 24|\n",
      "+--------+------+----+---+\n",
      "\n"
     ]
    }
   ],
   "source": [
    "df_with_x = movimientos.withColumn(\"Positivo\", when(movimientos.Cantidad<0, \"No\").otherwise(\"Si\"))\n",
    "df_with_x.groupBy('Positivo').pivot('TipoTransaccionID').count().show()\n"
   ]
  },
  {
   "cell_type": "code",
   "execution_count": 172,
   "metadata": {},
   "outputs": [
    {
     "name": "stdout",
     "output_type": "stream",
     "text": [
      "+--------+------+----+----+----+\n",
      "|Positivo|      | 1.0| 4.0| 7.0|\n",
      "+--------+------+----+----+----+\n",
      "|      No|197158|null|null|null|\n",
      "|      Si|    24|  11|4832|2267|\n",
      "+--------+------+----+----+----+\n",
      "\n"
     ]
    }
   ],
   "source": [
    "df_with_x.groupBy('Positivo').pivot('ProveedorID').count().show()"
   ]
  },
  {
   "cell_type": "code",
   "execution_count": 173,
   "metadata": {},
   "outputs": [
    {
     "data": {
      "text/html": [
       "<style type=\"text/css\">\n",
       "#T_3beee_row0_col0, #T_3beee_row1_col1, #T_3beee_row2_col2, #T_3beee_row3_col3, #T_3beee_row4_col4, #T_3beee_row5_col5 {\n",
       "  background-color: #b40426;\n",
       "  color: #f1f1f1;\n",
       "}\n",
       "#T_3beee_row0_col1, #T_3beee_row3_col0 {\n",
       "  background-color: #4257c9;\n",
       "  color: #f1f1f1;\n",
       "}\n",
       "#T_3beee_row0_col2, #T_3beee_row1_col4 {\n",
       "  background-color: #a7c5fe;\n",
       "  color: #000000;\n",
       "}\n",
       "#T_3beee_row0_col3 {\n",
       "  background-color: #88abfd;\n",
       "  color: #000000;\n",
       "}\n",
       "#T_3beee_row0_col4 {\n",
       "  background-color: #d55042;\n",
       "  color: #f1f1f1;\n",
       "}\n",
       "#T_3beee_row0_col5 {\n",
       "  background-color: #aac7fd;\n",
       "  color: #000000;\n",
       "}\n",
       "#T_3beee_row1_col0 {\n",
       "  background-color: #4055c8;\n",
       "  color: #f1f1f1;\n",
       "}\n",
       "#T_3beee_row1_col2 {\n",
       "  background-color: #aec9fc;\n",
       "  color: #000000;\n",
       "}\n",
       "#T_3beee_row1_col3 {\n",
       "  background-color: #7ea1fa;\n",
       "  color: #f1f1f1;\n",
       "}\n",
       "#T_3beee_row1_col5 {\n",
       "  background-color: #a2c1ff;\n",
       "  color: #000000;\n",
       "}\n",
       "#T_3beee_row2_col0, #T_3beee_row2_col3, #T_3beee_row2_col4, #T_3beee_row3_col1, #T_3beee_row4_col2, #T_3beee_row4_col5 {\n",
       "  background-color: #3b4cc0;\n",
       "  color: #f1f1f1;\n",
       "}\n",
       "#T_3beee_row2_col1, #T_3beee_row5_col1 {\n",
       "  background-color: #455cce;\n",
       "  color: #f1f1f1;\n",
       "}\n",
       "#T_3beee_row2_col5 {\n",
       "  background-color: #dc5d4a;\n",
       "  color: #f1f1f1;\n",
       "}\n",
       "#T_3beee_row3_col2 {\n",
       "  background-color: #6687ed;\n",
       "  color: #f1f1f1;\n",
       "}\n",
       "#T_3beee_row3_col4 {\n",
       "  background-color: #cad8ef;\n",
       "  color: #000000;\n",
       "}\n",
       "#T_3beee_row3_col5 {\n",
       "  background-color: #6180e9;\n",
       "  color: #f1f1f1;\n",
       "}\n",
       "#T_3beee_row4_col0 {\n",
       "  background-color: #e16751;\n",
       "  color: #f1f1f1;\n",
       "}\n",
       "#T_3beee_row4_col1 {\n",
       "  background-color: #3d50c3;\n",
       "  color: #f1f1f1;\n",
       "}\n",
       "#T_3beee_row4_col3 {\n",
       "  background-color: #abc8fd;\n",
       "  color: #000000;\n",
       "}\n",
       "#T_3beee_row5_col0 {\n",
       "  background-color: #4c66d6;\n",
       "  color: #f1f1f1;\n",
       "}\n",
       "#T_3beee_row5_col2 {\n",
       "  background-color: #d95847;\n",
       "  color: #f1f1f1;\n",
       "}\n",
       "#T_3beee_row5_col3 {\n",
       "  background-color: #445acc;\n",
       "  color: #f1f1f1;\n",
       "}\n",
       "#T_3beee_row5_col4 {\n",
       "  background-color: #4961d2;\n",
       "  color: #f1f1f1;\n",
       "}\n",
       "</style>\n",
       "<table id=\"T_3beee_\">\n",
       "  <thead>\n",
       "    <tr>\n",
       "      <th class=\"blank level0\" >&nbsp;</th>\n",
       "      <th class=\"col_heading level0 col0\" >TransaccionProductoID</th>\n",
       "      <th class=\"col_heading level0 col1\" >ProductoID</th>\n",
       "      <th class=\"col_heading level0 col2\" >TipoTransaccionID</th>\n",
       "      <th class=\"col_heading level0 col3\" >ClienteID</th>\n",
       "      <th class=\"col_heading level0 col4\" >InvoiceID</th>\n",
       "      <th class=\"col_heading level0 col5\" >Cantidad</th>\n",
       "    </tr>\n",
       "  </thead>\n",
       "  <tbody>\n",
       "    <tr>\n",
       "      <th id=\"T_3beee_level0_row0\" class=\"row_heading level0 row0\" >TransaccionProductoID</th>\n",
       "      <td id=\"T_3beee_row0_col0\" class=\"data row0 col0\" >1.000000</td>\n",
       "      <td id=\"T_3beee_row0_col1\" class=\"data row0 col1\" >0.017905</td>\n",
       "      <td id=\"T_3beee_row0_col2\" class=\"data row0 col2\" >-0.001819</td>\n",
       "      <td id=\"T_3beee_row0_col3\" class=\"data row0 col3\" >0.021868</td>\n",
       "      <td id=\"T_3beee_row0_col4\" class=\"data row0 col4\" >0.859235</td>\n",
       "      <td id=\"T_3beee_row0_col5\" class=\"data row0 col5\" >0.060616</td>\n",
       "    </tr>\n",
       "    <tr>\n",
       "      <th id=\"T_3beee_level0_row1\" class=\"row_heading level0 row1\" >ProductoID</th>\n",
       "      <td id=\"T_3beee_row1_col0\" class=\"data row1 col0\" >0.017905</td>\n",
       "      <td id=\"T_3beee_row1_col1\" class=\"data row1 col1\" >1.000000</td>\n",
       "      <td id=\"T_3beee_row1_col2\" class=\"data row1 col2\" >0.028463</td>\n",
       "      <td id=\"T_3beee_row1_col3\" class=\"data row1 col3\" >-0.009326</td>\n",
       "      <td id=\"T_3beee_row1_col4\" class=\"data row1 col4\" >0.001007</td>\n",
       "      <td id=\"T_3beee_row1_col5\" class=\"data row1 col5\" >0.028805</td>\n",
       "    </tr>\n",
       "    <tr>\n",
       "      <th id=\"T_3beee_level0_row2\" class=\"row_heading level0 row2\" >TipoTransaccionID</th>\n",
       "      <td id=\"T_3beee_row2_col0\" class=\"data row2 col0\" >-0.001819</td>\n",
       "      <td id=\"T_3beee_row2_col1\" class=\"data row2 col1\" >0.028463</td>\n",
       "      <td id=\"T_3beee_row2_col2\" class=\"data row2 col2\" >1.000000</td>\n",
       "      <td id=\"T_3beee_row2_col3\" class=\"data row2 col3\" >-0.277915</td>\n",
       "      <td id=\"T_3beee_row2_col4\" class=\"data row2 col4\" >-0.484808</td>\n",
       "      <td id=\"T_3beee_row2_col5\" class=\"data row2 col5\" >0.833650</td>\n",
       "    </tr>\n",
       "    <tr>\n",
       "      <th id=\"T_3beee_level0_row3\" class=\"row_heading level0 row3\" >ClienteID</th>\n",
       "      <td id=\"T_3beee_row3_col0\" class=\"data row3 col0\" >0.021868</td>\n",
       "      <td id=\"T_3beee_row3_col1\" class=\"data row3 col1\" >-0.009326</td>\n",
       "      <td id=\"T_3beee_row3_col2\" class=\"data row3 col2\" >-0.277915</td>\n",
       "      <td id=\"T_3beee_row3_col3\" class=\"data row3 col3\" >1.000000</td>\n",
       "      <td id=\"T_3beee_row3_col4\" class=\"data row3 col4\" >0.154670</td>\n",
       "      <td id=\"T_3beee_row3_col5\" class=\"data row3 col5\" >-0.234709</td>\n",
       "    </tr>\n",
       "    <tr>\n",
       "      <th id=\"T_3beee_level0_row4\" class=\"row_heading level0 row4\" >InvoiceID</th>\n",
       "      <td id=\"T_3beee_row4_col0\" class=\"data row4 col0\" >0.859235</td>\n",
       "      <td id=\"T_3beee_row4_col1\" class=\"data row4 col1\" >0.001007</td>\n",
       "      <td id=\"T_3beee_row4_col2\" class=\"data row4 col2\" >-0.484808</td>\n",
       "      <td id=\"T_3beee_row4_col3\" class=\"data row4 col3\" >0.154670</td>\n",
       "      <td id=\"T_3beee_row4_col4\" class=\"data row4 col4\" >1.000000</td>\n",
       "      <td id=\"T_3beee_row4_col5\" class=\"data row4 col5\" >-0.409633</td>\n",
       "    </tr>\n",
       "    <tr>\n",
       "      <th id=\"T_3beee_level0_row5\" class=\"row_heading level0 row5\" >Cantidad</th>\n",
       "      <td id=\"T_3beee_row5_col0\" class=\"data row5 col0\" >0.060616</td>\n",
       "      <td id=\"T_3beee_row5_col1\" class=\"data row5 col1\" >0.028805</td>\n",
       "      <td id=\"T_3beee_row5_col2\" class=\"data row5 col2\" >0.833650</td>\n",
       "      <td id=\"T_3beee_row5_col3\" class=\"data row5 col3\" >-0.234709</td>\n",
       "      <td id=\"T_3beee_row5_col4\" class=\"data row5 col4\" >-0.409633</td>\n",
       "      <td id=\"T_3beee_row5_col5\" class=\"data row5 col5\" >1.000000</td>\n",
       "    </tr>\n",
       "  </tbody>\n",
       "</table>\n"
      ],
      "text/plain": [
       "<pandas.io.formats.style.Styler at 0x1e8ab082188>"
      ]
     },
     "execution_count": 173,
     "metadata": {},
     "output_type": "execute_result"
    }
   ],
   "source": [
    "corr = movimientos.toPandas().corr(method='pearson')\n",
    "corr.style.background_gradient(cmap='coolwarm')"
   ]
  },
  {
   "cell_type": "markdown",
   "metadata": {},
   "source": [
    "Se realiza el análisis de acuerdo con lo deducido con los análisis del informe y el reporte generado encontrando que las tipologías de la transacción marcara un valor importante para el análisis de la información y la entrega de la información que permita a WWI en el tablero de control de acuerdo con su objetivo de visualizar los productos vendidos y los stock de productos que pueda suplir estas necesidades."
   ]
  },
  {
   "cell_type": "markdown",
   "metadata": {
    "id": "YfSMeXZQPn3g"
   },
   "source": [
    "## Conclusiones"
   ]
  },
  {
   "attachments": {
    "Requerimiento.jpg": {
     "image/jpeg": "[encoded data removed]"
    }
   },
   "cell_type": "markdown",
   "metadata": {
    "id": "iLIyH36rPn3g"
   },
   "source": [
    "### Conclusiones Generales:\n",
    "\n",
    "En la tabla de movimientosCopia, se ha recopilado información sobre las entradas y salidas de productos, lo que permite rastrear la naturaleza de estos movimientos, así como identificar a los clientes y proveedores involucrados en las compras y ventas de productos. Para una comprensión completa y para generar un tablero de control efectivo, se requerirá información financiera adicional, específicamente los detalles económicos de los movimientos de productos, que se pueden derivar de las relaciones entre \"InvoiceID\" y \"OrdenDeCompraID\". La entrega de esta información adicional debe confirmarse con el negocio.\n",
    "\n",
    "### Conclusiones de Reglas de Negocio:\n",
    "\n",
    "Las reglas de negocio proporcionadas han presentado discrepancias durante el análisis de los datos entregados. Por lo tanto, es esencial realizar consultas al negocio para aclarar estas discrepancias y definir si se requieren ajustes en la información proporcionada. Las preguntas y aclaraciones necesarias incluyen:\n",
    "\n",
    "Aclaración sobre si la afirmación de \"50 millones por transacción\" se refiere a un valor financiero y si se proporcionará información adicional para la consultoría. ¿Las cantidades entregadas son numéricas o representan una medida (por ejemplo, miles) de productos?\n",
    "Investigar la discrepancia en el número de productos entre las reglas de negocio y la información entregada. ¿Se trata de un error en la regla o información incompleta?\n",
    "Aclaración sobre el número de clientes. ¿La regla se ajusta al hecho de que solo hay 664 \"ClienteID\"? ¿Hay información faltante o se necesita una revisión de la regla?\n",
    "Investigar el formato de la fecha y si es factible realizar la transformación necesaria para cumplir con los requisitos del Tablero de Control. ¿Se conoce el proceso para hacer ajustes en la columna de fechas?\n",
    "Confirmar si las suposiciones sobre las tipologías de transacciones son correctas para validar los valores positivos y negativos. ¿Existen errores de calidad en las tipologías?\n",
    "Conclusiones de Calidad:\n",
    "\n",
    "En términos de calidad de datos, la tabla no presenta valores nulos, pero se han identificado 30,633 registros duplicados, lo que requiere validación y corrección. La transformación de la columna de fechas es necesaria, ya que el 30% de los datos no cumple con el formato especificado.\n",
    "\n",
    "Además, se debe confirmar con el negocio si se mantendrán los valores \"0\" en las columnas \"ClienteID\" e \"InvoiceID\" y cómo afectarán los análisis posteriores.\n",
    "\n",
    "### Conclusiones del Informe ProfileReport:\n",
    "\n",
    "El informe proporciona una visión general de los datos y confirma algunas de las suposiciones realizadas en los análisis individuales. Además, destaca la importancia de abordar las discrepancias en las reglas de negocio y la necesidad de clarificación y colaboración con el negocio para garantizar la integridad y calidad de los datos.\n",
    "\n",
    "Se sugiere sostener una sesión con el negocio para plantear las inquietudes y preguntas pendientes y avanzar en la metodología para el análisis y la formulación de un modelo de analítica 1.0. Es esencial destacar que los análisis requieren un entendimiento adicional y reglas claras para el procesamiento y las transformaciones de los datos.\n",
    "\n",
    "### Requerimiento\n",
    "![Requerimiento.jpg](attachment:Requerimiento.jpg)\n",
    "\n",
    "Es una conclusión sólida que resalta la posibilidad de llevar a cabo una Analítica 1.0 para WWI que permita comprender el comportamiento de los clientes a partir de las órdenes de venta y tomar decisiones estratégicas relacionadas con los productos y proveedores. Esto se alinea con los objetivos de ofrecer productos que los clientes desean, brindar un servicio de calidad que maximice las ganancias y optimizar la gestión de inventario.\n",
    "\n",
    "Sin embargo, es fundamental destacar que para llevar a cabo este análisis, se requieren correcciones en los datos y aclaraciones por parte del negocio para garantizar la integridad y calidad de la información. Además, se destaca la importancia de complementar la información actual con datos de recaudo de ventas y detalles sobre ciudades y vendedores. Esta información adicional es esencial para la creación de tableros de control con las variables requeridas.\n",
    "\n",
    "En resumen, aunque existe un potencial para realizar un análisis valioso, se necesitará una estrecha colaboración con el negocio y la provisión de datos adicionales para lograr los objetivos de WWI de manera efectiva."
   ]
  },
  {
   "cell_type": "markdown",
   "metadata": {
    "id": "xsIHBKMTPn3g"
   },
   "source": [
    "## Cierre\n",
    "\n",
    "Completado este tutorial ya sabrá la forma básica de utilizar PySpark. Ya sabe cómo crear DataFrames a partir de datos existentes, cómo seleccionar columnas o filas de este Dataframe, cómo rellenar espacios vacíos, cómo aplicar sus propias funciones a estos datos y los más importante, cómo utilizarlo para realizar una fase de entendimiento de datos.\n",
    "\n",
    "Las tablas detallesOrdenesCopia y OrdenesCopia estaran disponibles en caso de que desee repetir este tutorial cuantas veces considere necesario"
   ]
  },
  {
   "cell_type": "markdown",
   "metadata": {
    "id": "GV2OfMqRPn3g"
   },
   "source": [
    "## 7. Información adicional\n",
    "\n",
    "Si quiere conocer más sobre PySpark la guía más detallada es la documentación oficial, la cual puede encontrar acá: https://spark.apache.org/docs/latest/api/python/index.html <br>\n",
    "Para ir directamente a la documentación de PySpark SQL, donde está la información sobre los DataFrames: https://spark.apache.org/docs/latest/api/python/pyspark.sql.html <br>\n",
    "\n",
    "El Capítulo 2 del libro <i>Learn PySpark : Build Python-based Machine Learning and Deep Learning Models, New York: Apress. 2019</i> de Pramod Singh contiene muchos ejemplos útiles, puede encontrarlo en la biblioteca virtual de la universidad."
   ]
  },
  {
   "cell_type": "markdown",
   "metadata": {
    "id": "iKeHXm96Pn3h"
   },
   "source": [
    "## 8. Preguntas frecuentes\n",
    "\n",
    "1. Si en el cálculo de los histogramas o en una de sus UDF obtiene el error: TypeError: unsupported operand type(s) for *: 'decimal.Decimal' and 'float' verifique los tipos de las columnas que está intentando operar y, si alguna es double, conviértala a float.\n",
    "\n",
    "2. En algunos casos, encontrará también información sobre <i>Pandas_UDF</i>. <i>Pandas_UDF</i> son también User Defined Functions, por lo general los Pandas UDF son más eficientes que los UDF tradicionales, sin embargo, hay un bug con la versión de PySpark y de Java que se está usando, lo que previene la utilización de Pandas_UDF.\n",
    "\n",
    "3. Si al ejecutar la configuración de la sesión Spark le aparece el error <i>Cannot run multiple SparkContexts at once; existing SparkContext(app=pyspark-shell, master=local[*])</i> Reinicie el kernel y vuelva a ejecutar\n"
   ]
  },
  {
   "cell_type": "code",
   "execution_count": null,
   "metadata": {
    "id": "0JxEJmKnPn3h"
   },
   "outputs": [],
   "source": []
  }
 ],
 "metadata": {
  "colab": {
   "collapsed_sections": [
    "qxN27II0Pn3T",
    "GnAScmClPn3W",
    "UuZspay3Pn3Z",
    "ZHLs1H0hPn3b",
    "QgkzeSm4Pn3b",
    "LZyQcqCvPn3c",
    "eDf54JyKPn3d",
    "ltTluhtIPn3e",
    "IPhtXcD1Pn3g",
    "-axExLnhPn3g",
    "YfSMeXZQPn3g"
   ],
   "name": "MISW-ETL-Entendimiento.ipynb",
   "provenance": []
  },
  "kernelspec": {
   "display_name": "Python 3 (ipykernel)",
   "language": "python",
   "name": "python3"
  },
  "language_info": {
   "codemirror_mode": {
    "name": "ipython",
    "version": 3
   },
   "file_extension": ".py",
   "mimetype": "text/x-python",
   "name": "python",
   "nbconvert_exporter": "python",
   "pygments_lexer": "ipython3",
   "version": "3.7.13"
  },
  "toc-autonumbering": true,
  "toc-showcode": true
 },
 "nbformat": 4,
 "nbformat_minor": 4
}
